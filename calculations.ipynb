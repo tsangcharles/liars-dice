{
 "cells": [
  {
   "cell_type": "code",
   "execution_count": 146,
   "metadata": {},
   "outputs": [],
   "source": [
    "import numpy as np\n",
    "import pandas as pd\n",
    "import matplotlib.pyplot as plt"
   ]
  },
  {
   "cell_type": "code",
   "execution_count": 133,
   "metadata": {},
   "outputs": [],
   "source": [
    "#Game parameters\n",
    "numPlayers = 3\n",
    "countOnes = True\n",
    "numMC = 10000"
   ]
  },
  {
   "cell_type": "code",
   "execution_count": 134,
   "metadata": {},
   "outputs": [],
   "source": [
    "def reroll(dice):\n",
    "    totalRolls = dice.shape[0]\n",
    "    dice['num_unique'] = dice.apply(pd.Series.nunique, axis=1)\n",
    "    dice = dice [dice ['num_unique']<5]\n",
    "    del dice['num_unique']\n",
    "    numUniqueRolls = dice.shape[0]\n",
    "    while totalRolls - numUniqueRolls > 0:\n",
    "        reRollsDf = pd.DataFrame(np.random.randint(low = 1, high = 7, size=(totalRolls - numUniqueRolls,5)))\n",
    "        dice = dice.append(reRollsDf)\n",
    "        dice['num_unique'] = dice.apply(pd.Series.nunique, axis=1)\n",
    "        dice = dice [dice ['num_unique']<5]\n",
    "        del dice['num_unique']\n",
    "        numUniqueRolls = dice.shape[0]\n",
    "    return dice"
   ]
  },
  {
   "cell_type": "code",
   "execution_count": 135,
   "metadata": {},
   "outputs": [],
   "source": [
    "class player:\n",
    "    def __init__(self, numMC = 1000, playernum = 1):\n",
    "        np.random.seed(playernum) #using player number as seed for reproducibility\n",
    "        self.dice = pd.DataFrame(np.random.randint(low = 1, high = 7, size=(numMC,5)))\n",
    "        # Need to get rid off rows with all unique dice rolls and reroll\n",
    "        self.dice = reroll(self.dice)\n",
    "        \n",
    "        \n",
    "    def dice_count(self,countOnes = True):\n",
    "        ones_count = (self.dice==1).sum(axis=1)\n",
    "        twos_count = (self.dice==2).sum(axis=1)\n",
    "        threes_count = (self.dice==3).sum(axis=1)\n",
    "        fours_count = (self.dice==4).sum(axis=1)\n",
    "        fives_count = (self.dice==5).sum(axis=1)\n",
    "        sixes_count = (self.dice==6).sum(axis=1)\n",
    "        if countOnes == True:\n",
    "            count = np.transpose(np.array([ones_count,twos_count + ones_count,\\\n",
    "                                           threes_count + ones_count,fours_count + ones_count,\\\n",
    "                                           fives_count + ones_count,sixes_count + ones_count]))\n",
    "        else:\n",
    "            count = np.transpose(np.array([ones_count,twos_count,threes_count,fours_count,fives_count,sixes_count]))\n",
    "        count[count==5]=6 #rule where if you have 5 of the same dice (counting 1s), it is counted as 6\n",
    "        return count"
   ]
  },
  {
   "cell_type": "code",
   "execution_count": 160,
   "metadata": {},
   "outputs": [],
   "source": [
    "def plotDiceGraph(x,xlabel,y,ylabel,title):\n",
    "    plt.scatter(x, y)\n",
    "    plt.xticks(x)\n",
    "    plt.grid()\n",
    "    plt.xlabel(xlabel)\n",
    "    plt.ylabel(ylabel)\n",
    "    plt.title(title)"
   ]
  },
  {
   "cell_type": "markdown",
   "metadata": {},
   "source": [
    "# Monte Carlo Simulation Counting Ones"
   ]
  },
  {
   "cell_type": "code",
   "execution_count": 136,
   "metadata": {
    "scrolled": false
   },
   "outputs": [
    {
     "name": "stdout",
     "output_type": "stream",
     "text": [
      "In a game with 3 players, the proability of getting at least 1 1's' is 91.67%\n",
      "In a game with 3 players, the proability of getting at least 1 2's' is 99.54%\n",
      "In a game with 3 players, the proability of getting at least 1 3's' is 99.67%\n",
      "In a game with 3 players, the proability of getting at least 1 4's' is 99.67%\n",
      "In a game with 3 players, the proability of getting at least 1 5's' is 99.67%\n",
      "In a game with 3 players, the proability of getting at least 1 6's' is 99.61%\n",
      "In a game with 3 players, the proability of getting at least 2 1's' is 72.69%\n",
      "In a game with 3 players, the proability of getting at least 2 2's' is 97.28%\n",
      "In a game with 3 players, the proability of getting at least 2 3's' is 97.59%\n",
      "In a game with 3 players, the proability of getting at least 2 4's' is 97.62%\n",
      "In a game with 3 players, the proability of getting at least 2 5's' is 97.56%\n",
      "In a game with 3 players, the proability of getting at least 2 6's' is 97.86%\n",
      "In a game with 3 players, the proability of getting at least 3 1's' is 47.16%\n",
      "In a game with 3 players, the proability of getting at least 3 2's' is 90.32%\n",
      "In a game with 3 players, the proability of getting at least 3 3's' is 90.69%\n",
      "In a game with 3 players, the proability of getting at least 3 4's' is 91.01%\n",
      "In a game with 3 players, the proability of getting at least 3 5's' is 91.27%\n",
      "In a game with 3 players, the proability of getting at least 3 6's' is 91.47%\n",
      "In a game with 3 players, the proability of getting at least 4 1's' is 24.11%\n",
      "In a game with 3 players, the proability of getting at least 4 2's' is 77.02%\n",
      "In a game with 3 players, the proability of getting at least 4 3's' is 77.62%\n",
      "In a game with 3 players, the proability of getting at least 4 4's' is 77.7%\n",
      "In a game with 3 players, the proability of getting at least 4 5's' is 78.39%\n",
      "In a game with 3 players, the proability of getting at least 4 6's' is 78.56%\n",
      "In a game with 3 players, the proability of getting at least 5 1's' is 9.58%\n",
      "In a game with 3 players, the proability of getting at least 5 2's' is 58.21%\n",
      "In a game with 3 players, the proability of getting at least 5 3's' is 58.25%\n",
      "In a game with 3 players, the proability of getting at least 5 4's' is 59.38%\n",
      "In a game with 3 players, the proability of getting at least 5 5's' is 59.67%\n",
      "In a game with 3 players, the proability of getting at least 5 6's' is 59.5%\n",
      "In a game with 3 players, the proability of getting at least 6 1's' is 2.79%\n",
      "In a game with 3 players, the proability of getting at least 6 2's' is 38.28%\n",
      "In a game with 3 players, the proability of getting at least 6 3's' is 38.05%\n",
      "In a game with 3 players, the proability of getting at least 6 4's' is 38.96%\n",
      "In a game with 3 players, the proability of getting at least 6 5's' is 38.56%\n",
      "In a game with 3 players, the proability of getting at least 6 6's' is 38.41%\n",
      "In a game with 3 players, the proability of getting at least 7 1's' is 0.79%\n",
      "In a game with 3 players, the proability of getting at least 7 2's' is 21.15%\n",
      "In a game with 3 players, the proability of getting at least 7 3's' is 21.22%\n",
      "In a game with 3 players, the proability of getting at least 7 4's' is 21.79%\n",
      "In a game with 3 players, the proability of getting at least 7 5's' is 21.64%\n",
      "In a game with 3 players, the proability of getting at least 7 6's' is 21.26%\n",
      "In a game with 3 players, the proability of getting at least 8 1's' is 0.26%\n",
      "In a game with 3 players, the proability of getting at least 8 2's' is 9.77%\n",
      "In a game with 3 players, the proability of getting at least 8 3's' is 9.62%\n",
      "In a game with 3 players, the proability of getting at least 8 4's' is 10.2%\n",
      "In a game with 3 players, the proability of getting at least 8 5's' is 9.88%\n",
      "In a game with 3 players, the proability of getting at least 8 6's' is 9.8%\n",
      "In a game with 3 players, the proability of getting at least 9 1's' is 0.04%\n",
      "In a game with 3 players, the proability of getting at least 9 2's' is 3.85%\n",
      "In a game with 3 players, the proability of getting at least 9 3's' is 3.88%\n",
      "In a game with 3 players, the proability of getting at least 9 4's' is 4.08%\n",
      "In a game with 3 players, the proability of getting at least 9 5's' is 3.83%\n",
      "In a game with 3 players, the proability of getting at least 9 6's' is 4.0%\n",
      "In a game with 3 players, the proability of getting at least 10 1's' is 0.0%\n",
      "In a game with 3 players, the proability of getting at least 10 2's' is 1.18%\n",
      "In a game with 3 players, the proability of getting at least 10 3's' is 1.28%\n",
      "In a game with 3 players, the proability of getting at least 10 4's' is 1.37%\n",
      "In a game with 3 players, the proability of getting at least 10 5's' is 1.3%\n",
      "In a game with 3 players, the proability of getting at least 10 6's' is 1.37%\n",
      "In a game with 3 players, the proability of getting at least 11 1's' is 0.0%\n",
      "In a game with 3 players, the proability of getting at least 11 2's' is 0.37%\n",
      "In a game with 3 players, the proability of getting at least 11 3's' is 0.45%\n",
      "In a game with 3 players, the proability of getting at least 11 4's' is 0.48%\n",
      "In a game with 3 players, the proability of getting at least 11 5's' is 0.36%\n",
      "In a game with 3 players, the proability of getting at least 11 6's' is 0.44%\n",
      "In a game with 3 players, the proability of getting at least 12 1's' is 0.0%\n",
      "In a game with 3 players, the proability of getting at least 12 2's' is 0.09%\n",
      "In a game with 3 players, the proability of getting at least 12 3's' is 0.07%\n",
      "In a game with 3 players, the proability of getting at least 12 4's' is 0.14%\n",
      "In a game with 3 players, the proability of getting at least 12 5's' is 0.11%\n",
      "In a game with 3 players, the proability of getting at least 12 6's' is 0.13%\n",
      "In a game with 3 players, the proability of getting at least 13 1's' is 0.0%\n",
      "In a game with 3 players, the proability of getting at least 13 2's' is 0.03%\n",
      "In a game with 3 players, the proability of getting at least 13 3's' is 0.02%\n",
      "In a game with 3 players, the proability of getting at least 13 4's' is 0.05%\n",
      "In a game with 3 players, the proability of getting at least 13 5's' is 0.03%\n",
      "In a game with 3 players, the proability of getting at least 13 6's' is 0.03%\n",
      "In a game with 3 players, the proability of getting at least 14 1's' is 0.0%\n",
      "In a game with 3 players, the proability of getting at least 14 2's' is 0.01%\n",
      "In a game with 3 players, the proability of getting at least 14 3's' is 0.0%\n",
      "In a game with 3 players, the proability of getting at least 14 4's' is 0.01%\n",
      "In a game with 3 players, the proability of getting at least 14 5's' is 0.01%\n",
      "In a game with 3 players, the proability of getting at least 14 6's' is 0.0%\n",
      "In a game with 3 players, the proability of getting at least 15 1's' is 0.0%\n",
      "In a game with 3 players, the proability of getting at least 15 2's' is 0.0%\n",
      "In a game with 3 players, the proability of getting at least 15 3's' is 0.0%\n",
      "In a game with 3 players, the proability of getting at least 15 4's' is 0.01%\n",
      "In a game with 3 players, the proability of getting at least 15 5's' is 0.0%\n",
      "In a game with 3 players, the proability of getting at least 15 6's' is 0.0%\n",
      "In a game with 3 players, the proability of getting at least 16 1's' is 0.0%\n",
      "In a game with 3 players, the proability of getting at least 16 2's' is 0.0%\n",
      "In a game with 3 players, the proability of getting at least 16 3's' is 0.0%\n",
      "In a game with 3 players, the proability of getting at least 16 4's' is 0.01%\n",
      "In a game with 3 players, the proability of getting at least 16 5's' is 0.0%\n",
      "In a game with 3 players, the proability of getting at least 16 6's' is 0.0%\n",
      "In a game with 3 players, the proability of getting at least 17 1's' is 0.0%\n",
      "In a game with 3 players, the proability of getting at least 17 2's' is 0.0%\n",
      "In a game with 3 players, the proability of getting at least 17 3's' is 0.0%\n",
      "In a game with 3 players, the proability of getting at least 17 4's' is 0.0%\n",
      "In a game with 3 players, the proability of getting at least 17 5's' is 0.0%\n",
      "In a game with 3 players, the proability of getting at least 17 6's' is 0.0%\n",
      "In a game with 3 players, the proability of getting at least 18 1's' is 0.0%\n",
      "In a game with 3 players, the proability of getting at least 18 2's' is 0.0%\n",
      "In a game with 3 players, the proability of getting at least 18 3's' is 0.0%\n",
      "In a game with 3 players, the proability of getting at least 18 4's' is 0.0%\n",
      "In a game with 3 players, the proability of getting at least 18 5's' is 0.0%\n",
      "In a game with 3 players, the proability of getting at least 18 6's' is 0.0%\n"
     ]
    }
   ],
   "source": [
    "aggDiceCount = np.zeros((numMC,6))\n",
    "for playernum in range(numPlayers):\n",
    "    aggDiceCount+=player(numMC,playernum).dice_count(countOnes)\n",
    "for numOutcomes in range(1,6*numPlayers+1):\n",
    "    for faceValue in range(1,7):\n",
    "        print(\"In a game with {} players, the proability of getting at least {} {}'s' is {}%\"\\\n",
    "              .format(numPlayers, numOutcomes, faceValue,\\\n",
    "                      np.round((aggDiceCount>=numOutcomes).sum(axis = 0)[faceValue-1]/numMC*100,2)))"
   ]
  },
  {
   "cell_type": "markdown",
   "metadata": {},
   "source": [
    "# Graph Results"
   ]
  },
  {
   "cell_type": "markdown",
   "metadata": {},
   "source": [
    "## Counting Ones"
   ]
  },
  {
   "cell_type": "code",
   "execution_count": 152,
   "metadata": {},
   "outputs": [],
   "source": [
    "onesProb = np.zeros((6*numPlayers))\n",
    "for numOutcomes in range(6*numPlayers):\n",
    "    onesProb[numOutcomes] = np.round((aggDiceCount>=numOutcomes).sum(axis = 0)[0]/numMC*100,2)"
   ]
  },
  {
   "cell_type": "code",
   "execution_count": 163,
   "metadata": {},
   "outputs": [
    {
     "data": {
      "image/png": "[encoded data removed]",
      "text/plain": [
       "<Figure size 432x288 with 1 Axes>"
      ]
     },
     "metadata": {
      "needs_background": "light"
     },
     "output_type": "display_data"
    }
   ],
   "source": [
    "plotDiceGraph(range(1,6*numPlayers+1),'Outcome',onesProb,'Probability (%)',\"Probability of Getting 1's\")"
   ]
  },
  {
   "cell_type": "markdown",
   "metadata": {},
   "source": [
    "## Counting None One (Using 2 as a Proxy)"
   ]
  },
  {
   "cell_type": "code",
   "execution_count": 164,
   "metadata": {},
   "outputs": [],
   "source": [
    "twosProb = np.zeros((6*numPlayers))\n",
    "for numOutcomes in range(6*numPlayers):\n",
    "    twosProb[numOutcomes] = np.round((aggDiceCount>=numOutcomes).sum(axis = 0)[1]/numMC*100,2)"
   ]
  },
  {
   "cell_type": "code",
   "execution_count": 166,
   "metadata": {},
   "outputs": [
    {
     "data": {
      "image/png": "[encoded data removed]",
      "text/plain": [
       "<Figure size 432x288 with 1 Axes>"
      ]
     },
     "metadata": {
      "needs_background": "light"
     },
     "output_type": "display_data"
    }
   ],
   "source": [
    "plotDiceGraph(range(1,6*numPlayers+1),'Outcome',twosProb,'Probability (%)',\"Probability of Getting Not 1's While Counting 1's\")"
   ]
  },
  {
   "cell_type": "code",
   "execution_count": null,
   "metadata": {},
   "outputs": [],
   "source": []
  }
 ],
 "metadata": {
  "kernelspec": {
   "display_name": "Python 3",
   "language": "python",
   "name": "python3"
  },
  "language_info": {
   "codemirror_mode": {
    "name": "ipython",
    "version": 3
   },
   "file_extension": ".py",
   "mimetype": "text/x-python",
   "name": "python",
   "nbconvert_exporter": "python",
   "pygments_lexer": "ipython3",
   "version": "3.7.1"
  }
 },
 "nbformat": 4,
 "nbformat_minor": 2
}
