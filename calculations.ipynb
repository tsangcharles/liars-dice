{
 "cells": [
  {
   "cell_type": "code",
   "execution_count": 49,
   "metadata": {},
   "outputs": [],
   "source": [
    "import numpy as np\n",
    "import pandas as pd\n",
    "import matplotlib.pyplot as plt"
   ]
  },
  {
   "cell_type": "code",
   "execution_count": 50,
   "metadata": {},
   "outputs": [],
   "source": [
    "def reroll(dice):\n",
    "    totalRolls = dice.shape[0]\n",
    "    dice['num_unique'] = dice.apply(pd.Series.nunique, axis=1)\n",
    "    dice = dice [dice ['num_unique']<5]\n",
    "    del dice['num_unique']\n",
    "    numUniqueRolls = dice.shape[0]\n",
    "    while totalRolls - numUniqueRolls > 0:\n",
    "        reRollsDf = pd.DataFrame(np.random.randint(low = 1, high = 7, size=(totalRolls - numUniqueRolls,5)))\n",
    "        dice = dice.append(reRollsDf)\n",
    "        dice['num_unique'] = dice.apply(pd.Series.nunique, axis=1)\n",
    "        dice = dice [dice ['num_unique']<5]\n",
    "        del dice['num_unique']\n",
    "        numUniqueRolls = dice.shape[0]\n",
    "    return dice"
   ]
  },
  {
   "cell_type": "code",
   "execution_count": 51,
   "metadata": {},
   "outputs": [],
   "source": [
    "class player:\n",
    "    def __init__(self, numMC = 1000, playernum = 1):\n",
    "        np.random.seed(playernum) #using player number as seed for reproducibility\n",
    "        self.dice = pd.DataFrame(np.random.randint(low = 1, high = 7, size=(numMC,5)))\n",
    "        # Need to get rid off rows with all unique dice rolls and reroll\n",
    "        self.dice = reroll(self.dice)\n",
    "        \n",
    "        \n",
    "    def dice_count(self,countOnes = True):\n",
    "        ones_count = (self.dice==1).sum(axis=1)\n",
    "        twos_count = (self.dice==2).sum(axis=1)\n",
    "        threes_count = (self.dice==3).sum(axis=1)\n",
    "        fours_count = (self.dice==4).sum(axis=1)\n",
    "        fives_count = (self.dice==5).sum(axis=1)\n",
    "        sixes_count = (self.dice==6).sum(axis=1)\n",
    "        if countOnes == True:\n",
    "            count = np.transpose(np.array([ones_count,twos_count + ones_count,\\\n",
    "                                           threes_count + ones_count,fours_count + ones_count,\\\n",
    "                                           fives_count + ones_count,sixes_count + ones_count]))\n",
    "        else:\n",
    "            count = np.transpose(np.array([ones_count,twos_count,threes_count,fours_count,fives_count,sixes_count]))\n",
    "        count[count==5]=6 #rule where if you have 5 of the same dice (counting 1s), it is counted as 6\n",
    "        return count"
   ]
  },
  {
   "cell_type": "code",
   "execution_count": 52,
   "metadata": {},
   "outputs": [],
   "source": [
    "def plotDiceGraph(x,xlabel,y,ylabel,title):\n",
    "    plt.scatter(x, y)\n",
    "    plt.xticks(x)\n",
    "    plt.grid()\n",
    "    plt.xlabel(xlabel)\n",
    "    plt.ylabel(ylabel)\n",
    "    plt.title(title)"
   ]
  },
  {
   "cell_type": "markdown",
   "metadata": {},
   "source": [
    "# Monte Carlo Simulation Counting Ones (1 Other Player)"
   ]
  },
  {
   "cell_type": "code",
   "execution_count": 53,
   "metadata": {},
   "outputs": [],
   "source": [
    "#Game parameters\n",
    "numPlayers = 1\n",
    "countOnes = True\n",
    "numMC = 10000"
   ]
  },
  {
   "cell_type": "code",
   "execution_count": 54,
   "metadata": {},
   "outputs": [
    {
     "name": "stdout",
     "output_type": "stream",
     "text": [
      "In a game with 1 players, the proability of getting at least 1 1's' is 56.89%\n",
      "In a game with 1 players, the proability of getting at least 1 2's' is 85.2%\n",
      "In a game with 1 players, the proability of getting at least 1 3's' is 85.0%\n",
      "In a game with 1 players, the proability of getting at least 1 4's' is 84.95%\n",
      "In a game with 1 players, the proability of getting at least 1 5's' is 85.31%\n",
      "In a game with 1 players, the proability of getting at least 1 6's' is 85.47%\n",
      "In a game with 1 players, the proability of getting at least 2 1's' is 21.65%\n",
      "In a game with 1 players, the proability of getting at least 2 2's' is 51.89%\n",
      "In a game with 1 players, the proability of getting at least 2 3's' is 52.58%\n",
      "In a game with 1 players, the proability of getting at least 2 4's' is 52.86%\n",
      "In a game with 1 players, the proability of getting at least 2 5's' is 52.78%\n",
      "In a game with 1 players, the proability of getting at least 2 6's' is 52.91%\n",
      "In a game with 1 players, the proability of getting at least 3 1's' is 3.56%\n",
      "In a game with 1 players, the proability of getting at least 3 2's' is 22.43%\n",
      "In a game with 1 players, the proability of getting at least 3 3's' is 22.65%\n",
      "In a game with 1 players, the proability of getting at least 3 4's' is 23.03%\n",
      "In a game with 1 players, the proability of getting at least 3 5's' is 23.29%\n",
      "In a game with 1 players, the proability of getting at least 3 6's' is 23.28%\n",
      "In a game with 1 players, the proability of getting at least 4 1's' is 0.4%\n",
      "In a game with 1 players, the proability of getting at least 4 2's' is 4.75%\n",
      "In a game with 1 players, the proability of getting at least 4 3's' is 4.59%\n",
      "In a game with 1 players, the proability of getting at least 4 4's' is 5.06%\n",
      "In a game with 1 players, the proability of getting at least 4 5's' is 4.87%\n",
      "In a game with 1 players, the proability of getting at least 4 6's' is 5.04%\n",
      "In a game with 1 players, the proability of getting at least 5 1's' is 0.0%\n",
      "In a game with 1 players, the proability of getting at least 5 2's' is 0.4%\n",
      "In a game with 1 players, the proability of getting at least 5 3's' is 0.44%\n",
      "In a game with 1 players, the proability of getting at least 5 4's' is 0.48%\n",
      "In a game with 1 players, the proability of getting at least 5 5's' is 0.34%\n",
      "In a game with 1 players, the proability of getting at least 5 6's' is 0.4%\n",
      "In a game with 1 players, the proability of getting at least 6 1's' is 0.0%\n",
      "In a game with 1 players, the proability of getting at least 6 2's' is 0.4%\n",
      "In a game with 1 players, the proability of getting at least 6 3's' is 0.44%\n",
      "In a game with 1 players, the proability of getting at least 6 4's' is 0.48%\n",
      "In a game with 1 players, the proability of getting at least 6 5's' is 0.34%\n",
      "In a game with 1 players, the proability of getting at least 6 6's' is 0.4%\n"
     ]
    }
   ],
   "source": [
    "aggDiceCount = np.zeros((numMC,6))\n",
    "for playernum in range(numPlayers):\n",
    "    aggDiceCount+=player(numMC,playernum).dice_count(countOnes)\n",
    "for numOutcomes in range(1,6*numPlayers+1):\n",
    "    for faceValue in range(1,7):\n",
    "        print(\"In a game with {} players, the proability of getting at least {} {}'s' is {}%\"\\\n",
    "              .format(numPlayers, numOutcomes, faceValue,\\\n",
    "                      np.round((aggDiceCount>=numOutcomes).sum(axis = 0)[faceValue-1]/numMC*100,2)))"
   ]
  },
  {
   "cell_type": "markdown",
   "metadata": {},
   "source": [
    "## Counting Ones"
   ]
  },
  {
   "cell_type": "code",
   "execution_count": 55,
   "metadata": {},
   "outputs": [
    {
     "data": {
      "image/png": "[encoded data removed]",
      "text/plain": [
       "<Figure size 432x288 with 1 Axes>"
      ]
     },
     "metadata": {
      "needs_background": "light"
     },
     "output_type": "display_data"
    }
   ],
   "source": [
    "onesProb = np.zeros((6*numPlayers))\n",
    "for numOutcomes in range(6*numPlayers):\n",
    "    onesProb[numOutcomes] = np.round((aggDiceCount>=numOutcomes).sum(axis = 0)[0]/numMC*100,2)\n",
    "plotDiceGraph(range(1,6*numPlayers+1),'Outcome',onesProb,'Probability (%)',\"Probability of Getting 1's\")"
   ]
  },
  {
   "cell_type": "markdown",
   "metadata": {},
   "source": [
    "## Counting None One (Using 2 as a Proxy)"
   ]
  },
  {
   "cell_type": "code",
   "execution_count": 56,
   "metadata": {},
   "outputs": [
    {
     "data": {
      "image/png": "[encoded data removed]",
      "text/plain": [
       "<Figure size 432x288 with 1 Axes>"
      ]
     },
     "metadata": {
      "needs_background": "light"
     },
     "output_type": "display_data"
    }
   ],
   "source": [
    "twosProb = np.zeros((6*numPlayers))\n",
    "for numOutcomes in range(6*numPlayers):\n",
    "    twosProb[numOutcomes] = np.round((aggDiceCount>=numOutcomes).sum(axis = 0)[1]/numMC*100,2)\n",
    "plotDiceGraph(range(1,6*numPlayers+1),'Outcome',twosProb,'Probability (%)',\"Probability of Getting Not 1's While Counting 1's\")"
   ]
  },
  {
   "cell_type": "markdown",
   "metadata": {},
   "source": [
    "# Monte Carlo Simulation Counting Ones (2 Other Players)"
   ]
  },
  {
   "cell_type": "code",
   "execution_count": 57,
   "metadata": {},
   "outputs": [],
   "source": [
    "#Game parameters\n",
    "numPlayers = 2\n",
    "countOnes = True\n",
    "numMC = 10000"
   ]
  },
  {
   "cell_type": "code",
   "execution_count": 58,
   "metadata": {},
   "outputs": [
    {
     "name": "stdout",
     "output_type": "stream",
     "text": [
      "In a game with 2 players, the proability of getting at least 1 1's' is 81.47%\n",
      "In a game with 2 players, the proability of getting at least 1 2's' is 97.6%\n",
      "In a game with 2 players, the proability of getting at least 1 3's' is 97.81%\n",
      "In a game with 2 players, the proability of getting at least 1 4's' is 97.99%\n",
      "In a game with 2 players, the proability of getting at least 1 5's' is 97.81%\n",
      "In a game with 2 players, the proability of getting at least 1 6's' is 97.68%\n",
      "In a game with 2 players, the proability of getting at least 2 1's' is 51.2%\n",
      "In a game with 2 players, the proability of getting at least 2 2's' is 88.05%\n",
      "In a game with 2 players, the proability of getting at least 2 3's' is 88.18%\n",
      "In a game with 2 players, the proability of getting at least 2 4's' is 88.23%\n",
      "In a game with 2 players, the proability of getting at least 2 5's' is 88.18%\n",
      "In a game with 2 players, the proability of getting at least 2 6's' is 88.6%\n",
      "In a game with 2 players, the proability of getting at least 3 1's' is 23.51%\n",
      "In a game with 2 players, the proability of getting at least 3 2's' is 68.09%\n",
      "In a game with 2 players, the proability of getting at least 3 3's' is 68.66%\n",
      "In a game with 2 players, the proability of getting at least 3 4's' is 68.62%\n",
      "In a game with 2 players, the proability of getting at least 3 5's' is 68.93%\n",
      "In a game with 2 players, the proability of getting at least 3 6's' is 69.36%\n",
      "In a game with 2 players, the proability of getting at least 4 1's' is 7.62%\n",
      "In a game with 2 players, the proability of getting at least 4 2's' is 44.16%\n",
      "In a game with 2 players, the proability of getting at least 4 3's' is 44.47%\n",
      "In a game with 2 players, the proability of getting at least 4 4's' is 44.78%\n",
      "In a game with 2 players, the proability of getting at least 4 5's' is 44.06%\n",
      "In a game with 2 players, the proability of getting at least 4 6's' is 44.8%\n",
      "In a game with 2 players, the proability of getting at least 5 1's' is 1.61%\n",
      "In a game with 2 players, the proability of getting at least 5 2's' is 22.19%\n",
      "In a game with 2 players, the proability of getting at least 5 3's' is 22.05%\n",
      "In a game with 2 players, the proability of getting at least 5 4's' is 22.52%\n",
      "In a game with 2 players, the proability of getting at least 5 5's' is 22.18%\n",
      "In a game with 2 players, the proability of getting at least 5 6's' is 22.04%\n",
      "In a game with 2 players, the proability of getting at least 6 1's' is 0.33%\n",
      "In a game with 2 players, the proability of getting at least 6 2's' is 8.65%\n",
      "In a game with 2 players, the proability of getting at least 6 3's' is 8.49%\n",
      "In a game with 2 players, the proability of getting at least 6 4's' is 8.83%\n",
      "In a game with 2 players, the proability of getting at least 6 5's' is 8.72%\n",
      "In a game with 2 players, the proability of getting at least 6 6's' is 8.62%\n",
      "In a game with 2 players, the proability of getting at least 7 1's' is 0.04%\n",
      "In a game with 2 players, the proability of getting at least 7 2's' is 2.57%\n",
      "In a game with 2 players, the proability of getting at least 7 3's' is 2.35%\n",
      "In a game with 2 players, the proability of getting at least 7 4's' is 2.61%\n",
      "In a game with 2 players, the proability of getting at least 7 5's' is 2.62%\n",
      "In a game with 2 players, the proability of getting at least 7 6's' is 2.69%\n",
      "In a game with 2 players, the proability of getting at least 8 1's' is 0.01%\n",
      "In a game with 2 players, the proability of getting at least 8 2's' is 0.62%\n",
      "In a game with 2 players, the proability of getting at least 8 3's' is 0.69%\n",
      "In a game with 2 players, the proability of getting at least 8 4's' is 0.62%\n",
      "In a game with 2 players, the proability of getting at least 8 5's' is 0.67%\n",
      "In a game with 2 players, the proability of getting at least 8 6's' is 0.59%\n",
      "In a game with 2 players, the proability of getting at least 9 1's' is 0.0%\n",
      "In a game with 2 players, the proability of getting at least 9 2's' is 0.15%\n",
      "In a game with 2 players, the proability of getting at least 9 3's' is 0.18%\n",
      "In a game with 2 players, the proability of getting at least 9 4's' is 0.2%\n",
      "In a game with 2 players, the proability of getting at least 9 5's' is 0.22%\n",
      "In a game with 2 players, the proability of getting at least 9 6's' is 0.1%\n",
      "In a game with 2 players, the proability of getting at least 10 1's' is 0.0%\n",
      "In a game with 2 players, the proability of getting at least 10 2's' is 0.04%\n",
      "In a game with 2 players, the proability of getting at least 10 3's' is 0.02%\n",
      "In a game with 2 players, the proability of getting at least 10 4's' is 0.06%\n",
      "In a game with 2 players, the proability of getting at least 10 5's' is 0.03%\n",
      "In a game with 2 players, the proability of getting at least 10 6's' is 0.02%\n",
      "In a game with 2 players, the proability of getting at least 11 1's' is 0.0%\n",
      "In a game with 2 players, the proability of getting at least 11 2's' is 0.0%\n",
      "In a game with 2 players, the proability of getting at least 11 3's' is 0.0%\n",
      "In a game with 2 players, the proability of getting at least 11 4's' is 0.01%\n",
      "In a game with 2 players, the proability of getting at least 11 5's' is 0.0%\n",
      "In a game with 2 players, the proability of getting at least 11 6's' is 0.0%\n",
      "In a game with 2 players, the proability of getting at least 12 1's' is 0.0%\n",
      "In a game with 2 players, the proability of getting at least 12 2's' is 0.0%\n",
      "In a game with 2 players, the proability of getting at least 12 3's' is 0.0%\n",
      "In a game with 2 players, the proability of getting at least 12 4's' is 0.01%\n",
      "In a game with 2 players, the proability of getting at least 12 5's' is 0.0%\n",
      "In a game with 2 players, the proability of getting at least 12 6's' is 0.0%\n"
     ]
    }
   ],
   "source": [
    "aggDiceCount = np.zeros((numMC,6))\n",
    "for playernum in range(numPlayers):\n",
    "    aggDiceCount+=player(numMC,playernum).dice_count(countOnes)\n",
    "for numOutcomes in range(1,6*numPlayers+1):\n",
    "    for faceValue in range(1,7):\n",
    "        print(\"In a game with {} players, the proability of getting at least {} {}'s' is {}%\"\\\n",
    "              .format(numPlayers, numOutcomes, faceValue,\\\n",
    "                      np.round((aggDiceCount>=numOutcomes).sum(axis = 0)[faceValue-1]/numMC*100,2)))"
   ]
  },
  {
   "cell_type": "markdown",
   "metadata": {},
   "source": [
    "## Counting Ones"
   ]
  },
  {
   "cell_type": "code",
   "execution_count": 59,
   "metadata": {},
   "outputs": [
    {
     "data": {
      "image/png": "[encoded data removed]",
      "text/plain": [
       "<Figure size 432x288 with 1 Axes>"
      ]
     },
     "metadata": {
      "needs_background": "light"
     },
     "output_type": "display_data"
    }
   ],
   "source": [
    "onesProb = np.zeros((6*numPlayers))\n",
    "for numOutcomes in range(6*numPlayers):\n",
    "    onesProb[numOutcomes] = np.round((aggDiceCount>=numOutcomes).sum(axis = 0)[0]/numMC*100,2)\n",
    "plotDiceGraph(range(1,6*numPlayers+1),'Outcome',onesProb,'Probability (%)',\"Probability of Getting 1's\")"
   ]
  },
  {
   "cell_type": "markdown",
   "metadata": {},
   "source": [
    "## Counting None One (Using 2 as a Proxy)"
   ]
  },
  {
   "cell_type": "code",
   "execution_count": 60,
   "metadata": {},
   "outputs": [
    {
     "data": {
      "image/png": "[encoded data removed]",
      "text/plain": [
       "<Figure size 432x288 with 1 Axes>"
      ]
     },
     "metadata": {
      "needs_background": "light"
     },
     "output_type": "display_data"
    }
   ],
   "source": [
    "twosProb = np.zeros((6*numPlayers))\n",
    "for numOutcomes in range(6*numPlayers):\n",
    "    twosProb[numOutcomes] = np.round((aggDiceCount>=numOutcomes).sum(axis = 0)[1]/numMC*100,2)\n",
    "plotDiceGraph(range(1,6*numPlayers+1),'Outcome',twosProb,'Probability (%)',\"Probability of Getting Not 1's While Counting 1's\")"
   ]
  },
  {
   "cell_type": "markdown",
   "metadata": {},
   "source": [
    "# Monte Carlo Simulation Counting Ones (3 Other Players)"
   ]
  },
  {
   "cell_type": "code",
   "execution_count": 61,
   "metadata": {},
   "outputs": [],
   "source": [
    "#Game parameters\n",
    "numPlayers = 3\n",
    "countOnes = True\n",
    "numMC = 10000"
   ]
  },
  {
   "cell_type": "code",
   "execution_count": 62,
   "metadata": {
    "scrolled": false
   },
   "outputs": [
    {
     "name": "stdout",
     "output_type": "stream",
     "text": [
      "In a game with 3 players, the proability of getting at least 1 1's' is 91.67%\n",
      "In a game with 3 players, the proability of getting at least 1 2's' is 99.54%\n",
      "In a game with 3 players, the proability of getting at least 1 3's' is 99.67%\n",
      "In a game with 3 players, the proability of getting at least 1 4's' is 99.67%\n",
      "In a game with 3 players, the proability of getting at least 1 5's' is 99.67%\n",
      "In a game with 3 players, the proability of getting at least 1 6's' is 99.61%\n",
      "In a game with 3 players, the proability of getting at least 2 1's' is 72.69%\n",
      "In a game with 3 players, the proability of getting at least 2 2's' is 97.28%\n",
      "In a game with 3 players, the proability of getting at least 2 3's' is 97.59%\n",
      "In a game with 3 players, the proability of getting at least 2 4's' is 97.62%\n",
      "In a game with 3 players, the proability of getting at least 2 5's' is 97.56%\n",
      "In a game with 3 players, the proability of getting at least 2 6's' is 97.86%\n",
      "In a game with 3 players, the proability of getting at least 3 1's' is 47.16%\n",
      "In a game with 3 players, the proability of getting at least 3 2's' is 90.32%\n",
      "In a game with 3 players, the proability of getting at least 3 3's' is 90.69%\n",
      "In a game with 3 players, the proability of getting at least 3 4's' is 91.01%\n",
      "In a game with 3 players, the proability of getting at least 3 5's' is 91.27%\n",
      "In a game with 3 players, the proability of getting at least 3 6's' is 91.47%\n",
      "In a game with 3 players, the proability of getting at least 4 1's' is 24.11%\n",
      "In a game with 3 players, the proability of getting at least 4 2's' is 77.02%\n",
      "In a game with 3 players, the proability of getting at least 4 3's' is 77.62%\n",
      "In a game with 3 players, the proability of getting at least 4 4's' is 77.7%\n",
      "In a game with 3 players, the proability of getting at least 4 5's' is 78.39%\n",
      "In a game with 3 players, the proability of getting at least 4 6's' is 78.56%\n",
      "In a game with 3 players, the proability of getting at least 5 1's' is 9.58%\n",
      "In a game with 3 players, the proability of getting at least 5 2's' is 58.21%\n",
      "In a game with 3 players, the proability of getting at least 5 3's' is 58.25%\n",
      "In a game with 3 players, the proability of getting at least 5 4's' is 59.38%\n",
      "In a game with 3 players, the proability of getting at least 5 5's' is 59.67%\n",
      "In a game with 3 players, the proability of getting at least 5 6's' is 59.5%\n",
      "In a game with 3 players, the proability of getting at least 6 1's' is 2.79%\n",
      "In a game with 3 players, the proability of getting at least 6 2's' is 38.28%\n",
      "In a game with 3 players, the proability of getting at least 6 3's' is 38.05%\n",
      "In a game with 3 players, the proability of getting at least 6 4's' is 38.96%\n",
      "In a game with 3 players, the proability of getting at least 6 5's' is 38.56%\n",
      "In a game with 3 players, the proability of getting at least 6 6's' is 38.41%\n",
      "In a game with 3 players, the proability of getting at least 7 1's' is 0.79%\n",
      "In a game with 3 players, the proability of getting at least 7 2's' is 21.15%\n",
      "In a game with 3 players, the proability of getting at least 7 3's' is 21.22%\n",
      "In a game with 3 players, the proability of getting at least 7 4's' is 21.79%\n",
      "In a game with 3 players, the proability of getting at least 7 5's' is 21.64%\n",
      "In a game with 3 players, the proability of getting at least 7 6's' is 21.26%\n",
      "In a game with 3 players, the proability of getting at least 8 1's' is 0.26%\n",
      "In a game with 3 players, the proability of getting at least 8 2's' is 9.77%\n",
      "In a game with 3 players, the proability of getting at least 8 3's' is 9.62%\n",
      "In a game with 3 players, the proability of getting at least 8 4's' is 10.2%\n",
      "In a game with 3 players, the proability of getting at least 8 5's' is 9.88%\n",
      "In a game with 3 players, the proability of getting at least 8 6's' is 9.8%\n",
      "In a game with 3 players, the proability of getting at least 9 1's' is 0.04%\n",
      "In a game with 3 players, the proability of getting at least 9 2's' is 3.85%\n",
      "In a game with 3 players, the proability of getting at least 9 3's' is 3.88%\n",
      "In a game with 3 players, the proability of getting at least 9 4's' is 4.08%\n",
      "In a game with 3 players, the proability of getting at least 9 5's' is 3.83%\n",
      "In a game with 3 players, the proability of getting at least 9 6's' is 4.0%\n",
      "In a game with 3 players, the proability of getting at least 10 1's' is 0.0%\n",
      "In a game with 3 players, the proability of getting at least 10 2's' is 1.18%\n",
      "In a game with 3 players, the proability of getting at least 10 3's' is 1.28%\n",
      "In a game with 3 players, the proability of getting at least 10 4's' is 1.37%\n",
      "In a game with 3 players, the proability of getting at least 10 5's' is 1.3%\n",
      "In a game with 3 players, the proability of getting at least 10 6's' is 1.37%\n",
      "In a game with 3 players, the proability of getting at least 11 1's' is 0.0%\n",
      "In a game with 3 players, the proability of getting at least 11 2's' is 0.37%\n",
      "In a game with 3 players, the proability of getting at least 11 3's' is 0.45%\n",
      "In a game with 3 players, the proability of getting at least 11 4's' is 0.48%\n",
      "In a game with 3 players, the proability of getting at least 11 5's' is 0.36%\n",
      "In a game with 3 players, the proability of getting at least 11 6's' is 0.44%\n",
      "In a game with 3 players, the proability of getting at least 12 1's' is 0.0%\n",
      "In a game with 3 players, the proability of getting at least 12 2's' is 0.09%\n",
      "In a game with 3 players, the proability of getting at least 12 3's' is 0.07%\n",
      "In a game with 3 players, the proability of getting at least 12 4's' is 0.14%\n",
      "In a game with 3 players, the proability of getting at least 12 5's' is 0.11%\n",
      "In a game with 3 players, the proability of getting at least 12 6's' is 0.13%\n",
      "In a game with 3 players, the proability of getting at least 13 1's' is 0.0%\n",
      "In a game with 3 players, the proability of getting at least 13 2's' is 0.03%\n",
      "In a game with 3 players, the proability of getting at least 13 3's' is 0.02%\n",
      "In a game with 3 players, the proability of getting at least 13 4's' is 0.05%\n",
      "In a game with 3 players, the proability of getting at least 13 5's' is 0.03%\n",
      "In a game with 3 players, the proability of getting at least 13 6's' is 0.03%\n",
      "In a game with 3 players, the proability of getting at least 14 1's' is 0.0%\n",
      "In a game with 3 players, the proability of getting at least 14 2's' is 0.01%\n",
      "In a game with 3 players, the proability of getting at least 14 3's' is 0.0%\n",
      "In a game with 3 players, the proability of getting at least 14 4's' is 0.01%\n",
      "In a game with 3 players, the proability of getting at least 14 5's' is 0.01%\n",
      "In a game with 3 players, the proability of getting at least 14 6's' is 0.0%\n",
      "In a game with 3 players, the proability of getting at least 15 1's' is 0.0%\n",
      "In a game with 3 players, the proability of getting at least 15 2's' is 0.0%\n",
      "In a game with 3 players, the proability of getting at least 15 3's' is 0.0%\n",
      "In a game with 3 players, the proability of getting at least 15 4's' is 0.01%\n",
      "In a game with 3 players, the proability of getting at least 15 5's' is 0.0%\n",
      "In a game with 3 players, the proability of getting at least 15 6's' is 0.0%\n",
      "In a game with 3 players, the proability of getting at least 16 1's' is 0.0%\n",
      "In a game with 3 players, the proability of getting at least 16 2's' is 0.0%\n",
      "In a game with 3 players, the proability of getting at least 16 3's' is 0.0%\n",
      "In a game with 3 players, the proability of getting at least 16 4's' is 0.01%\n",
      "In a game with 3 players, the proability of getting at least 16 5's' is 0.0%\n",
      "In a game with 3 players, the proability of getting at least 16 6's' is 0.0%\n",
      "In a game with 3 players, the proability of getting at least 17 1's' is 0.0%\n",
      "In a game with 3 players, the proability of getting at least 17 2's' is 0.0%\n",
      "In a game with 3 players, the proability of getting at least 17 3's' is 0.0%\n",
      "In a game with 3 players, the proability of getting at least 17 4's' is 0.0%\n",
      "In a game with 3 players, the proability of getting at least 17 5's' is 0.0%\n",
      "In a game with 3 players, the proability of getting at least 17 6's' is 0.0%\n",
      "In a game with 3 players, the proability of getting at least 18 1's' is 0.0%\n",
      "In a game with 3 players, the proability of getting at least 18 2's' is 0.0%\n",
      "In a game with 3 players, the proability of getting at least 18 3's' is 0.0%\n",
      "In a game with 3 players, the proability of getting at least 18 4's' is 0.0%\n",
      "In a game with 3 players, the proability of getting at least 18 5's' is 0.0%\n",
      "In a game with 3 players, the proability of getting at least 18 6's' is 0.0%\n"
     ]
    }
   ],
   "source": [
    "aggDiceCount = np.zeros((numMC,6))\n",
    "for playernum in range(numPlayers):\n",
    "    aggDiceCount+=player(numMC,playernum).dice_count(countOnes)\n",
    "for numOutcomes in range(1,6*numPlayers+1):\n",
    "    for faceValue in range(1,7):\n",
    "        print(\"In a game with {} players, the proability of getting at least {} {}'s' is {}%\"\\\n",
    "              .format(numPlayers, numOutcomes, faceValue,\\\n",
    "                      np.round((aggDiceCount>=numOutcomes).sum(axis = 0)[faceValue-1]/numMC*100,2)))"
   ]
  },
  {
   "cell_type": "markdown",
   "metadata": {},
   "source": [
    "## Counting Ones"
   ]
  },
  {
   "cell_type": "code",
   "execution_count": 63,
   "metadata": {},
   "outputs": [
    {
     "data": {
      "image/png": "[encoded data removed]",
      "text/plain": [
       "<Figure size 432x288 with 1 Axes>"
      ]
     },
     "metadata": {
      "needs_background": "light"
     },
     "output_type": "display_data"
    }
   ],
   "source": [
    "onesProb = np.zeros((6*numPlayers))\n",
    "for numOutcomes in range(6*numPlayers):\n",
    "    onesProb[numOutcomes] = np.round((aggDiceCount>=numOutcomes).sum(axis = 0)[0]/numMC*100,2)\n",
    "plotDiceGraph(range(1,6*numPlayers+1),'Outcome',onesProb,'Probability (%)',\"Probability of Getting 1's\")"
   ]
  },
  {
   "cell_type": "markdown",
   "metadata": {},
   "source": [
    "## Counting None One (Using 2 as a Proxy)"
   ]
  },
  {
   "cell_type": "code",
   "execution_count": 64,
   "metadata": {},
   "outputs": [
    {
     "data": {
      "image/png": "[encoded data removed]",
      "text/plain": [
       "<Figure size 432x288 with 1 Axes>"
      ]
     },
     "metadata": {
      "needs_background": "light"
     },
     "output_type": "display_data"
    }
   ],
   "source": [
    "twosProb = np.zeros((6*numPlayers))\n",
    "for numOutcomes in range(6*numPlayers):\n",
    "    twosProb[numOutcomes] = np.round((aggDiceCount>=numOutcomes).sum(axis = 0)[1]/numMC*100,2)\n",
    "plotDiceGraph(range(1,6*numPlayers+1),'Outcome',twosProb,'Probability (%)',\"Probability of Getting Not 1's While Counting 1's\")"
   ]
  },
  {
   "cell_type": "markdown",
   "metadata": {},
   "source": [
    "# Monte Carlo Simulation Counting Ones (4 Other Players)"
   ]
  },
  {
   "cell_type": "code",
   "execution_count": 65,
   "metadata": {},
   "outputs": [],
   "source": [
    "#Game parameters\n",
    "numPlayers = 4\n",
    "countOnes = True\n",
    "numMC = 10000"
   ]
  },
  {
   "cell_type": "code",
   "execution_count": 66,
   "metadata": {},
   "outputs": [
    {
     "name": "stdout",
     "output_type": "stream",
     "text": [
      "In a game with 4 players, the proability of getting at least 1 1's' is 96.55%\n",
      "In a game with 4 players, the proability of getting at least 1 2's' is 99.92%\n",
      "In a game with 4 players, the proability of getting at least 1 3's' is 99.98%\n",
      "In a game with 4 players, the proability of getting at least 1 4's' is 99.95%\n",
      "In a game with 4 players, the proability of getting at least 1 5's' is 99.98%\n",
      "In a game with 4 players, the proability of getting at least 1 6's' is 99.92%\n",
      "In a game with 4 players, the proability of getting at least 2 1's' is 85.33%\n",
      "In a game with 4 players, the proability of getting at least 2 2's' is 99.42%\n",
      "In a game with 4 players, the proability of getting at least 2 3's' is 99.57%\n",
      "In a game with 4 players, the proability of getting at least 2 4's' is 99.62%\n",
      "In a game with 4 players, the proability of getting at least 2 5's' is 99.56%\n",
      "In a game with 4 players, the proability of getting at least 2 6's' is 99.49%\n",
      "In a game with 4 players, the proability of getting at least 3 1's' is 66.16%\n",
      "In a game with 4 players, the proability of getting at least 3 2's' is 97.64%\n",
      "In a game with 4 players, the proability of getting at least 3 3's' is 97.91%\n",
      "In a game with 4 players, the proability of getting at least 3 4's' is 98.03%\n",
      "In a game with 4 players, the proability of getting at least 3 5's' is 98.02%\n",
      "In a game with 4 players, the proability of getting at least 3 6's' is 97.69%\n",
      "In a game with 4 players, the proability of getting at least 4 1's' is 43.67%\n",
      "In a game with 4 players, the proability of getting at least 4 2's' is 92.62%\n",
      "In a game with 4 players, the proability of getting at least 4 3's' is 92.98%\n",
      "In a game with 4 players, the proability of getting at least 4 4's' is 92.85%\n",
      "In a game with 4 players, the proability of getting at least 4 5's' is 93.27%\n",
      "In a game with 4 players, the proability of getting at least 4 6's' is 93.34%\n",
      "In a game with 4 players, the proability of getting at least 5 1's' is 23.89%\n",
      "In a game with 4 players, the proability of getting at least 5 2's' is 83.22%\n",
      "In a game with 4 players, the proability of getting at least 5 3's' is 83.23%\n",
      "In a game with 4 players, the proability of getting at least 5 4's' is 83.69%\n",
      "In a game with 4 players, the proability of getting at least 5 5's' is 83.73%\n",
      "In a game with 4 players, the proability of getting at least 5 6's' is 83.99%\n",
      "In a game with 4 players, the proability of getting at least 6 1's' is 10.91%\n",
      "In a game with 4 players, the proability of getting at least 6 2's' is 69.08%\n",
      "In a game with 4 players, the proability of getting at least 6 3's' is 68.43%\n",
      "In a game with 4 players, the proability of getting at least 6 4's' is 69.65%\n",
      "In a game with 4 players, the proability of getting at least 6 5's' is 69.96%\n",
      "In a game with 4 players, the proability of getting at least 6 6's' is 69.22%\n",
      "In a game with 4 players, the proability of getting at least 7 1's' is 4.18%\n",
      "In a game with 4 players, the proability of getting at least 7 2's' is 51.49%\n",
      "In a game with 4 players, the proability of getting at least 7 3's' is 51.68%\n",
      "In a game with 4 players, the proability of getting at least 7 4's' is 52.2%\n",
      "In a game with 4 players, the proability of getting at least 7 5's' is 52.12%\n",
      "In a game with 4 players, the proability of getting at least 7 6's' is 52.02%\n",
      "In a game with 4 players, the proability of getting at least 8 1's' is 1.29%\n",
      "In a game with 4 players, the proability of getting at least 8 2's' is 34.13%\n",
      "In a game with 4 players, the proability of getting at least 8 3's' is 34.09%\n",
      "In a game with 4 players, the proability of getting at least 8 4's' is 35.11%\n",
      "In a game with 4 players, the proability of getting at least 8 5's' is 34.99%\n",
      "In a game with 4 players, the proability of getting at least 8 6's' is 34.82%\n",
      "In a game with 4 players, the proability of getting at least 9 1's' is 0.43%\n",
      "In a game with 4 players, the proability of getting at least 9 2's' is 19.61%\n",
      "In a game with 4 players, the proability of getting at least 9 3's' is 19.71%\n",
      "In a game with 4 players, the proability of getting at least 9 4's' is 20.89%\n",
      "In a game with 4 players, the proability of getting at least 9 5's' is 20.03%\n",
      "In a game with 4 players, the proability of getting at least 9 6's' is 20.28%\n",
      "In a game with 4 players, the proability of getting at least 10 1's' is 0.08%\n",
      "In a game with 4 players, the proability of getting at least 10 2's' is 10.06%\n",
      "In a game with 4 players, the proability of getting at least 10 3's' is 10.4%\n",
      "In a game with 4 players, the proability of getting at least 10 4's' is 10.63%\n",
      "In a game with 4 players, the proability of getting at least 10 5's' is 10.31%\n",
      "In a game with 4 players, the proability of getting at least 10 6's' is 10.59%\n",
      "In a game with 4 players, the proability of getting at least 11 1's' is 0.02%\n",
      "In a game with 4 players, the proability of getting at least 11 2's' is 4.49%\n",
      "In a game with 4 players, the proability of getting at least 11 3's' is 4.47%\n",
      "In a game with 4 players, the proability of getting at least 11 4's' is 4.79%\n",
      "In a game with 4 players, the proability of getting at least 11 5's' is 4.84%\n",
      "In a game with 4 players, the proability of getting at least 11 6's' is 4.72%\n",
      "In a game with 4 players, the proability of getting at least 12 1's' is 0.0%\n",
      "In a game with 4 players, the proability of getting at least 12 2's' is 1.53%\n",
      "In a game with 4 players, the proability of getting at least 12 3's' is 1.88%\n",
      "In a game with 4 players, the proability of getting at least 12 4's' is 1.92%\n",
      "In a game with 4 players, the proability of getting at least 12 5's' is 1.95%\n",
      "In a game with 4 players, the proability of getting at least 12 6's' is 1.73%\n",
      "In a game with 4 players, the proability of getting at least 13 1's' is 0.0%\n",
      "In a game with 4 players, the proability of getting at least 13 2's' is 0.56%\n",
      "In a game with 4 players, the proability of getting at least 13 3's' is 0.65%\n",
      "In a game with 4 players, the proability of getting at least 13 4's' is 0.77%\n",
      "In a game with 4 players, the proability of getting at least 13 5's' is 0.68%\n",
      "In a game with 4 players, the proability of getting at least 13 6's' is 0.74%\n",
      "In a game with 4 players, the proability of getting at least 14 1's' is 0.0%\n",
      "In a game with 4 players, the proability of getting at least 14 2's' is 0.23%\n",
      "In a game with 4 players, the proability of getting at least 14 3's' is 0.18%\n",
      "In a game with 4 players, the proability of getting at least 14 4's' is 0.25%\n",
      "In a game with 4 players, the proability of getting at least 14 5's' is 0.2%\n",
      "In a game with 4 players, the proability of getting at least 14 6's' is 0.24%\n",
      "In a game with 4 players, the proability of getting at least 15 1's' is 0.0%\n",
      "In a game with 4 players, the proability of getting at least 15 2's' is 0.03%\n",
      "In a game with 4 players, the proability of getting at least 15 3's' is 0.04%\n",
      "In a game with 4 players, the proability of getting at least 15 4's' is 0.06%\n",
      "In a game with 4 players, the proability of getting at least 15 5's' is 0.08%\n",
      "In a game with 4 players, the proability of getting at least 15 6's' is 0.07%\n",
      "In a game with 4 players, the proability of getting at least 16 1's' is 0.0%\n",
      "In a game with 4 players, the proability of getting at least 16 2's' is 0.0%\n",
      "In a game with 4 players, the proability of getting at least 16 3's' is 0.02%\n",
      "In a game with 4 players, the proability of getting at least 16 4's' is 0.01%\n",
      "In a game with 4 players, the proability of getting at least 16 5's' is 0.03%\n",
      "In a game with 4 players, the proability of getting at least 16 6's' is 0.04%\n",
      "In a game with 4 players, the proability of getting at least 17 1's' is 0.0%\n",
      "In a game with 4 players, the proability of getting at least 17 2's' is 0.0%\n",
      "In a game with 4 players, the proability of getting at least 17 3's' is 0.0%\n",
      "In a game with 4 players, the proability of getting at least 17 4's' is 0.01%\n",
      "In a game with 4 players, the proability of getting at least 17 5's' is 0.0%\n",
      "In a game with 4 players, the proability of getting at least 17 6's' is 0.0%\n",
      "In a game with 4 players, the proability of getting at least 18 1's' is 0.0%\n",
      "In a game with 4 players, the proability of getting at least 18 2's' is 0.0%\n",
      "In a game with 4 players, the proability of getting at least 18 3's' is 0.0%\n",
      "In a game with 4 players, the proability of getting at least 18 4's' is 0.01%\n",
      "In a game with 4 players, the proability of getting at least 18 5's' is 0.0%\n",
      "In a game with 4 players, the proability of getting at least 18 6's' is 0.0%\n",
      "In a game with 4 players, the proability of getting at least 19 1's' is 0.0%\n",
      "In a game with 4 players, the proability of getting at least 19 2's' is 0.0%\n",
      "In a game with 4 players, the proability of getting at least 19 3's' is 0.0%\n",
      "In a game with 4 players, the proability of getting at least 19 4's' is 0.0%\n",
      "In a game with 4 players, the proability of getting at least 19 5's' is 0.0%\n",
      "In a game with 4 players, the proability of getting at least 19 6's' is 0.0%\n",
      "In a game with 4 players, the proability of getting at least 20 1's' is 0.0%\n",
      "In a game with 4 players, the proability of getting at least 20 2's' is 0.0%\n",
      "In a game with 4 players, the proability of getting at least 20 3's' is 0.0%\n",
      "In a game with 4 players, the proability of getting at least 20 4's' is 0.0%\n",
      "In a game with 4 players, the proability of getting at least 20 5's' is 0.0%\n",
      "In a game with 4 players, the proability of getting at least 20 6's' is 0.0%\n",
      "In a game with 4 players, the proability of getting at least 21 1's' is 0.0%\n",
      "In a game with 4 players, the proability of getting at least 21 2's' is 0.0%\n",
      "In a game with 4 players, the proability of getting at least 21 3's' is 0.0%\n",
      "In a game with 4 players, the proability of getting at least 21 4's' is 0.0%\n",
      "In a game with 4 players, the proability of getting at least 21 5's' is 0.0%\n",
      "In a game with 4 players, the proability of getting at least 21 6's' is 0.0%\n",
      "In a game with 4 players, the proability of getting at least 22 1's' is 0.0%\n",
      "In a game with 4 players, the proability of getting at least 22 2's' is 0.0%\n",
      "In a game with 4 players, the proability of getting at least 22 3's' is 0.0%\n",
      "In a game with 4 players, the proability of getting at least 22 4's' is 0.0%\n",
      "In a game with 4 players, the proability of getting at least 22 5's' is 0.0%\n",
      "In a game with 4 players, the proability of getting at least 22 6's' is 0.0%\n",
      "In a game with 4 players, the proability of getting at least 23 1's' is 0.0%\n",
      "In a game with 4 players, the proability of getting at least 23 2's' is 0.0%\n",
      "In a game with 4 players, the proability of getting at least 23 3's' is 0.0%\n",
      "In a game with 4 players, the proability of getting at least 23 4's' is 0.0%\n",
      "In a game with 4 players, the proability of getting at least 23 5's' is 0.0%\n",
      "In a game with 4 players, the proability of getting at least 23 6's' is 0.0%\n",
      "In a game with 4 players, the proability of getting at least 24 1's' is 0.0%\n",
      "In a game with 4 players, the proability of getting at least 24 2's' is 0.0%\n",
      "In a game with 4 players, the proability of getting at least 24 3's' is 0.0%\n",
      "In a game with 4 players, the proability of getting at least 24 4's' is 0.0%\n",
      "In a game with 4 players, the proability of getting at least 24 5's' is 0.0%\n",
      "In a game with 4 players, the proability of getting at least 24 6's' is 0.0%\n"
     ]
    }
   ],
   "source": [
    "aggDiceCount = np.zeros((numMC,6))\n",
    "for playernum in range(numPlayers):\n",
    "    aggDiceCount+=player(numMC,playernum).dice_count(countOnes)\n",
    "for numOutcomes in range(1,6*numPlayers+1):\n",
    "    for faceValue in range(1,7):\n",
    "        print(\"In a game with {} players, the proability of getting at least {} {}'s' is {}%\"\\\n",
    "              .format(numPlayers, numOutcomes, faceValue,\\\n",
    "                      np.round((aggDiceCount>=numOutcomes).sum(axis = 0)[faceValue-1]/numMC*100,2)))"
   ]
  },
  {
   "cell_type": "markdown",
   "metadata": {},
   "source": [
    "## Counting Ones"
   ]
  },
  {
   "cell_type": "code",
   "execution_count": 67,
   "metadata": {},
   "outputs": [
    {
     "data": {
      "image/png": "[encoded data removed]",
      "text/plain": [
       "<Figure size 432x288 with 1 Axes>"
      ]
     },
     "metadata": {
      "needs_background": "light"
     },
     "output_type": "display_data"
    }
   ],
   "source": [
    "onesProb = np.zeros((6*numPlayers))\n",
    "for numOutcomes in range(6*numPlayers):\n",
    "    onesProb[numOutcomes] = np.round((aggDiceCount>=numOutcomes).sum(axis = 0)[0]/numMC*100,2)\n",
    "plotDiceGraph(range(1,6*numPlayers+1),'Outcome',onesProb,'Probability (%)',\"Probability of Getting 1's\")"
   ]
  },
  {
   "cell_type": "markdown",
   "metadata": {},
   "source": [
    "## Counting None One (Using 2 as a Proxy)"
   ]
  },
  {
   "cell_type": "code",
   "execution_count": 68,
   "metadata": {
    "scrolled": true
   },
   "outputs": [
    {
     "data": {
      "image/png": "[encoded data removed]",
      "text/plain": [
       "<Figure size 432x288 with 1 Axes>"
      ]
     },
     "metadata": {
      "needs_background": "light"
     },
     "output_type": "display_data"
    }
   ],
   "source": [
    "twosProb = np.zeros((6*numPlayers))\n",
    "for numOutcomes in range(6*numPlayers):\n",
    "    twosProb[numOutcomes] = np.round((aggDiceCount>=numOutcomes).sum(axis = 0)[1]/numMC*100,2)\n",
    "plotDiceGraph(range(1,6*numPlayers+1),'Outcome',twosProb,'Probability (%)',\"Probability of Getting Not 1's While Counting 1's\")"
   ]
  },
  {
   "cell_type": "markdown",
   "metadata": {},
   "source": [
    "# Monte Carlo Simulation Counting Ones (5 Other Players)"
   ]
  },
  {
   "cell_type": "code",
   "execution_count": 69,
   "metadata": {},
   "outputs": [],
   "source": [
    "#Game parameters\n",
    "numPlayers = 5\n",
    "countOnes = True\n",
    "numMC = 10000"
   ]
  },
  {
   "cell_type": "code",
   "execution_count": 70,
   "metadata": {},
   "outputs": [
    {
     "name": "stdout",
     "output_type": "stream",
     "text": [
      "In a game with 5 players, the proability of getting at least 1 1's' is 98.64%\n",
      "In a game with 5 players, the proability of getting at least 1 2's' is 99.99%\n",
      "In a game with 5 players, the proability of getting at least 1 3's' is 99.99%\n",
      "In a game with 5 players, the proability of getting at least 1 4's' is 99.99%\n",
      "In a game with 5 players, the proability of getting at least 1 5's' is 100.0%\n",
      "In a game with 5 players, the proability of getting at least 1 6's' is 99.98%\n",
      "In a game with 5 players, the proability of getting at least 2 1's' is 92.24%\n",
      "In a game with 5 players, the proability of getting at least 2 2's' is 99.86%\n",
      "In a game with 5 players, the proability of getting at least 2 3's' is 99.96%\n",
      "In a game with 5 players, the proability of getting at least 2 4's' is 99.96%\n",
      "In a game with 5 players, the proability of getting at least 2 5's' is 99.93%\n",
      "In a game with 5 players, the proability of getting at least 2 6's' is 99.95%\n",
      "In a game with 5 players, the proability of getting at least 3 1's' is 79.17%\n",
      "In a game with 5 players, the proability of getting at least 3 2's' is 99.41%\n",
      "In a game with 5 players, the proability of getting at least 3 3's' is 99.61%\n",
      "In a game with 5 players, the proability of getting at least 3 4's' is 99.49%\n",
      "In a game with 5 players, the proability of getting at least 3 5's' is 99.62%\n",
      "In a game with 5 players, the proability of getting at least 3 6's' is 99.39%\n",
      "In a game with 5 players, the proability of getting at least 4 1's' is 60.45%\n",
      "In a game with 5 players, the proability of getting at least 4 2's' is 97.88%\n",
      "In a game with 5 players, the proability of getting at least 4 3's' is 98.28%\n",
      "In a game with 5 players, the proability of getting at least 4 4's' is 98.27%\n",
      "In a game with 5 players, the proability of getting at least 4 5's' is 98.26%\n",
      "In a game with 5 players, the proability of getting at least 4 6's' is 98.14%\n",
      "In a game with 5 players, the proability of getting at least 5 1's' is 40.65%\n",
      "In a game with 5 players, the proability of getting at least 5 2's' is 94.16%\n",
      "In a game with 5 players, the proability of getting at least 5 3's' is 94.22%\n",
      "In a game with 5 players, the proability of getting at least 5 4's' is 94.71%\n",
      "In a game with 5 players, the proability of getting at least 5 5's' is 94.79%\n",
      "In a game with 5 players, the proability of getting at least 5 6's' is 94.52%\n",
      "In a game with 5 players, the proability of getting at least 6 1's' is 23.12%\n",
      "In a game with 5 players, the proability of getting at least 6 2's' is 87.19%\n",
      "In a game with 5 players, the proability of getting at least 6 3's' is 87.08%\n",
      "In a game with 5 players, the proability of getting at least 6 4's' is 87.83%\n",
      "In a game with 5 players, the proability of getting at least 6 5's' is 88.01%\n",
      "In a game with 5 players, the proability of getting at least 6 6's' is 87.78%\n",
      "In a game with 5 players, the proability of getting at least 7 1's' is 11.47%\n",
      "In a game with 5 players, the proability of getting at least 7 2's' is 76.1%\n",
      "In a game with 5 players, the proability of getting at least 7 3's' is 76.08%\n",
      "In a game with 5 players, the proability of getting at least 7 4's' is 76.37%\n",
      "In a game with 5 players, the proability of getting at least 7 5's' is 77.0%\n",
      "In a game with 5 players, the proability of getting at least 7 6's' is 76.83%\n",
      "In a game with 5 players, the proability of getting at least 8 1's' is 4.87%\n",
      "In a game with 5 players, the proability of getting at least 8 2's' is 61.44%\n",
      "In a game with 5 players, the proability of getting at least 8 3's' is 61.68%\n",
      "In a game with 5 players, the proability of getting at least 8 4's' is 62.05%\n",
      "In a game with 5 players, the proability of getting at least 8 5's' is 63.0%\n",
      "In a game with 5 players, the proability of getting at least 8 6's' is 62.23%\n",
      "In a game with 5 players, the proability of getting at least 9 1's' is 1.94%\n",
      "In a game with 5 players, the proability of getting at least 9 2's' is 45.2%\n",
      "In a game with 5 players, the proability of getting at least 9 3's' is 45.48%\n",
      "In a game with 5 players, the proability of getting at least 9 4's' is 46.15%\n",
      "In a game with 5 players, the proability of getting at least 9 5's' is 46.93%\n",
      "In a game with 5 players, the proability of getting at least 9 6's' is 46.57%\n",
      "In a game with 5 players, the proability of getting at least 10 1's' is 0.68%\n",
      "In a game with 5 players, the proability of getting at least 10 2's' is 30.34%\n",
      "In a game with 5 players, the proability of getting at least 10 3's' is 30.67%\n",
      "In a game with 5 players, the proability of getting at least 10 4's' is 30.91%\n",
      "In a game with 5 players, the proability of getting at least 10 5's' is 31.42%\n",
      "In a game with 5 players, the proability of getting at least 10 6's' is 31.69%\n",
      "In a game with 5 players, the proability of getting at least 11 1's' is 0.18%\n",
      "In a game with 5 players, the proability of getting at least 11 2's' is 18.38%\n",
      "In a game with 5 players, the proability of getting at least 11 3's' is 18.51%\n",
      "In a game with 5 players, the proability of getting at least 11 4's' is 19.33%\n",
      "In a game with 5 players, the proability of getting at least 11 5's' is 18.61%\n",
      "In a game with 5 players, the proability of getting at least 11 6's' is 18.55%\n",
      "In a game with 5 players, the proability of getting at least 12 1's' is 0.03%\n",
      "In a game with 5 players, the proability of getting at least 12 2's' is 10.26%\n",
      "In a game with 5 players, the proability of getting at least 12 3's' is 10.18%\n",
      "In a game with 5 players, the proability of getting at least 12 4's' is 10.77%\n",
      "In a game with 5 players, the proability of getting at least 12 5's' is 10.26%\n",
      "In a game with 5 players, the proability of getting at least 12 6's' is 10.08%\n",
      "In a game with 5 players, the proability of getting at least 13 1's' is 0.01%\n",
      "In a game with 5 players, the proability of getting at least 13 2's' is 4.74%\n",
      "In a game with 5 players, the proability of getting at least 13 3's' is 4.98%\n",
      "In a game with 5 players, the proability of getting at least 13 4's' is 5.38%\n",
      "In a game with 5 players, the proability of getting at least 13 5's' is 4.98%\n",
      "In a game with 5 players, the proability of getting at least 13 6's' is 4.94%\n",
      "In a game with 5 players, the proability of getting at least 14 1's' is 0.0%\n",
      "In a game with 5 players, the proability of getting at least 14 2's' is 2.05%\n",
      "In a game with 5 players, the proability of getting at least 14 3's' is 2.14%\n",
      "In a game with 5 players, the proability of getting at least 14 4's' is 2.44%\n",
      "In a game with 5 players, the proability of getting at least 14 5's' is 2.28%\n",
      "In a game with 5 players, the proability of getting at least 14 6's' is 2.17%\n",
      "In a game with 5 players, the proability of getting at least 15 1's' is 0.0%\n",
      "In a game with 5 players, the proability of getting at least 15 2's' is 0.86%\n",
      "In a game with 5 players, the proability of getting at least 15 3's' is 0.84%\n",
      "In a game with 5 players, the proability of getting at least 15 4's' is 0.97%\n",
      "In a game with 5 players, the proability of getting at least 15 5's' is 0.82%\n",
      "In a game with 5 players, the proability of getting at least 15 6's' is 0.93%\n",
      "In a game with 5 players, the proability of getting at least 16 1's' is 0.0%\n",
      "In a game with 5 players, the proability of getting at least 16 2's' is 0.3%\n",
      "In a game with 5 players, the proability of getting at least 16 3's' is 0.31%\n",
      "In a game with 5 players, the proability of getting at least 16 4's' is 0.42%\n",
      "In a game with 5 players, the proability of getting at least 16 5's' is 0.33%\n",
      "In a game with 5 players, the proability of getting at least 16 6's' is 0.37%\n",
      "In a game with 5 players, the proability of getting at least 17 1's' is 0.0%\n",
      "In a game with 5 players, the proability of getting at least 17 2's' is 0.15%\n",
      "In a game with 5 players, the proability of getting at least 17 3's' is 0.1%\n",
      "In a game with 5 players, the proability of getting at least 17 4's' is 0.1%\n",
      "In a game with 5 players, the proability of getting at least 17 5's' is 0.12%\n",
      "In a game with 5 players, the proability of getting at least 17 6's' is 0.15%\n",
      "In a game with 5 players, the proability of getting at least 18 1's' is 0.0%\n",
      "In a game with 5 players, the proability of getting at least 18 2's' is 0.04%\n",
      "In a game with 5 players, the proability of getting at least 18 3's' is 0.03%\n",
      "In a game with 5 players, the proability of getting at least 18 4's' is 0.04%\n",
      "In a game with 5 players, the proability of getting at least 18 5's' is 0.03%\n",
      "In a game with 5 players, the proability of getting at least 18 6's' is 0.05%\n",
      "In a game with 5 players, the proability of getting at least 19 1's' is 0.0%\n",
      "In a game with 5 players, the proability of getting at least 19 2's' is 0.0%\n",
      "In a game with 5 players, the proability of getting at least 19 3's' is 0.03%\n",
      "In a game with 5 players, the proability of getting at least 19 4's' is 0.0%\n",
      "In a game with 5 players, the proability of getting at least 19 5's' is 0.0%\n",
      "In a game with 5 players, the proability of getting at least 19 6's' is 0.01%\n",
      "In a game with 5 players, the proability of getting at least 20 1's' is 0.0%\n",
      "In a game with 5 players, the proability of getting at least 20 2's' is 0.0%\n",
      "In a game with 5 players, the proability of getting at least 20 3's' is 0.0%\n",
      "In a game with 5 players, the proability of getting at least 20 4's' is 0.0%\n",
      "In a game with 5 players, the proability of getting at least 20 5's' is 0.0%\n",
      "In a game with 5 players, the proability of getting at least 20 6's' is 0.01%\n",
      "In a game with 5 players, the proability of getting at least 21 1's' is 0.0%\n",
      "In a game with 5 players, the proability of getting at least 21 2's' is 0.0%\n",
      "In a game with 5 players, the proability of getting at least 21 3's' is 0.0%\n",
      "In a game with 5 players, the proability of getting at least 21 4's' is 0.0%\n",
      "In a game with 5 players, the proability of getting at least 21 5's' is 0.0%\n",
      "In a game with 5 players, the proability of getting at least 21 6's' is 0.0%\n",
      "In a game with 5 players, the proability of getting at least 22 1's' is 0.0%\n",
      "In a game with 5 players, the proability of getting at least 22 2's' is 0.0%\n",
      "In a game with 5 players, the proability of getting at least 22 3's' is 0.0%\n",
      "In a game with 5 players, the proability of getting at least 22 4's' is 0.0%\n",
      "In a game with 5 players, the proability of getting at least 22 5's' is 0.0%\n",
      "In a game with 5 players, the proability of getting at least 22 6's' is 0.0%\n",
      "In a game with 5 players, the proability of getting at least 23 1's' is 0.0%\n",
      "In a game with 5 players, the proability of getting at least 23 2's' is 0.0%\n",
      "In a game with 5 players, the proability of getting at least 23 3's' is 0.0%\n",
      "In a game with 5 players, the proability of getting at least 23 4's' is 0.0%\n",
      "In a game with 5 players, the proability of getting at least 23 5's' is 0.0%\n",
      "In a game with 5 players, the proability of getting at least 23 6's' is 0.0%\n",
      "In a game with 5 players, the proability of getting at least 24 1's' is 0.0%\n",
      "In a game with 5 players, the proability of getting at least 24 2's' is 0.0%\n",
      "In a game with 5 players, the proability of getting at least 24 3's' is 0.0%\n",
      "In a game with 5 players, the proability of getting at least 24 4's' is 0.0%\n",
      "In a game with 5 players, the proability of getting at least 24 5's' is 0.0%\n",
      "In a game with 5 players, the proability of getting at least 24 6's' is 0.0%\n",
      "In a game with 5 players, the proability of getting at least 25 1's' is 0.0%\n",
      "In a game with 5 players, the proability of getting at least 25 2's' is 0.0%\n",
      "In a game with 5 players, the proability of getting at least 25 3's' is 0.0%\n",
      "In a game with 5 players, the proability of getting at least 25 4's' is 0.0%\n",
      "In a game with 5 players, the proability of getting at least 25 5's' is 0.0%\n",
      "In a game with 5 players, the proability of getting at least 25 6's' is 0.0%\n",
      "In a game with 5 players, the proability of getting at least 26 1's' is 0.0%\n",
      "In a game with 5 players, the proability of getting at least 26 2's' is 0.0%\n",
      "In a game with 5 players, the proability of getting at least 26 3's' is 0.0%\n",
      "In a game with 5 players, the proability of getting at least 26 4's' is 0.0%\n",
      "In a game with 5 players, the proability of getting at least 26 5's' is 0.0%\n",
      "In a game with 5 players, the proability of getting at least 26 6's' is 0.0%\n",
      "In a game with 5 players, the proability of getting at least 27 1's' is 0.0%\n",
      "In a game with 5 players, the proability of getting at least 27 2's' is 0.0%\n",
      "In a game with 5 players, the proability of getting at least 27 3's' is 0.0%\n",
      "In a game with 5 players, the proability of getting at least 27 4's' is 0.0%\n",
      "In a game with 5 players, the proability of getting at least 27 5's' is 0.0%\n",
      "In a game with 5 players, the proability of getting at least 27 6's' is 0.0%\n",
      "In a game with 5 players, the proability of getting at least 28 1's' is 0.0%\n",
      "In a game with 5 players, the proability of getting at least 28 2's' is 0.0%\n",
      "In a game with 5 players, the proability of getting at least 28 3's' is 0.0%\n",
      "In a game with 5 players, the proability of getting at least 28 4's' is 0.0%\n",
      "In a game with 5 players, the proability of getting at least 28 5's' is 0.0%\n",
      "In a game with 5 players, the proability of getting at least 28 6's' is 0.0%\n",
      "In a game with 5 players, the proability of getting at least 29 1's' is 0.0%\n",
      "In a game with 5 players, the proability of getting at least 29 2's' is 0.0%\n",
      "In a game with 5 players, the proability of getting at least 29 3's' is 0.0%\n",
      "In a game with 5 players, the proability of getting at least 29 4's' is 0.0%\n",
      "In a game with 5 players, the proability of getting at least 29 5's' is 0.0%\n",
      "In a game with 5 players, the proability of getting at least 29 6's' is 0.0%\n",
      "In a game with 5 players, the proability of getting at least 30 1's' is 0.0%\n",
      "In a game with 5 players, the proability of getting at least 30 2's' is 0.0%\n",
      "In a game with 5 players, the proability of getting at least 30 3's' is 0.0%\n",
      "In a game with 5 players, the proability of getting at least 30 4's' is 0.0%\n",
      "In a game with 5 players, the proability of getting at least 30 5's' is 0.0%\n",
      "In a game with 5 players, the proability of getting at least 30 6's' is 0.0%\n"
     ]
    }
   ],
   "source": [
    "aggDiceCount = np.zeros((numMC,6))\n",
    "for playernum in range(numPlayers):\n",
    "    aggDiceCount+=player(numMC,playernum).dice_count(countOnes)\n",
    "for numOutcomes in range(1,6*numPlayers+1):\n",
    "    for faceValue in range(1,7):\n",
    "        print(\"In a game with {} players, the proability of getting at least {} {}'s' is {}%\"\\\n",
    "              .format(numPlayers, numOutcomes, faceValue,\\\n",
    "                      np.round((aggDiceCount>=numOutcomes).sum(axis = 0)[faceValue-1]/numMC*100,2)))"
   ]
  },
  {
   "cell_type": "markdown",
   "metadata": {},
   "source": [
    "## Counting Ones"
   ]
  },
  {
   "cell_type": "code",
   "execution_count": 71,
   "metadata": {},
   "outputs": [
    {
     "data": {
      "image/png": "[encoded data removed]",
      "text/plain": [
       "<Figure size 432x288 with 1 Axes>"
      ]
     },
     "metadata": {
      "needs_background": "light"
     },
     "output_type": "display_data"
    }
   ],
   "source": [
    "onesProb = np.zeros((6*numPlayers))\n",
    "for numOutcomes in range(6*numPlayers):\n",
    "    onesProb[numOutcomes] = np.round((aggDiceCount>=numOutcomes).sum(axis = 0)[0]/numMC*100,2)\n",
    "plotDiceGraph(range(1,6*numPlayers+1),'Outcome',onesProb,'Probability (%)',\"Probability of Getting 1's\")"
   ]
  },
  {
   "cell_type": "markdown",
   "metadata": {},
   "source": [
    "## Counting None One (Using 2 as a Proxy)"
   ]
  },
  {
   "cell_type": "code",
   "execution_count": 72,
   "metadata": {
    "scrolled": true
   },
   "outputs": [
    {
     "data": {
      "image/png": "[encoded data removed]",
      "text/plain": [
       "<Figure size 432x288 with 1 Axes>"
      ]
     },
     "metadata": {
      "needs_background": "light"
     },
     "output_type": "display_data"
    }
   ],
   "source": [
    "twosProb = np.zeros((6*numPlayers))\n",
    "for numOutcomes in range(6*numPlayers):\n",
    "    twosProb[numOutcomes] = np.round((aggDiceCount>=numOutcomes).sum(axis = 0)[1]/numMC*100,2)\n",
    "plotDiceGraph(range(1,6*numPlayers+1),'Outcome',twosProb,'Probability (%)',\"Probability of Getting Not 1's While Counting 1's\")"
   ]
  },
  {
   "cell_type": "markdown",
   "metadata": {},
   "source": [
    "# Monte Carlo Simulation Counting Ones (6 Other Players)"
   ]
  },
  {
   "cell_type": "code",
   "execution_count": 73,
   "metadata": {},
   "outputs": [],
   "source": [
    "#Game parameters\n",
    "numPlayers = 6\n",
    "countOnes = True\n",
    "numMC = 10000"
   ]
  },
  {
   "cell_type": "code",
   "execution_count": 74,
   "metadata": {},
   "outputs": [
    {
     "name": "stdout",
     "output_type": "stream",
     "text": [
      "In a game with 6 players, the proability of getting at least 1 1's' is 99.41%\n",
      "In a game with 6 players, the proability of getting at least 1 2's' is 100.0%\n",
      "In a game with 6 players, the proability of getting at least 1 3's' is 100.0%\n",
      "In a game with 6 players, the proability of getting at least 1 4's' is 100.0%\n",
      "In a game with 6 players, the proability of getting at least 1 5's' is 100.0%\n",
      "In a game with 6 players, the proability of getting at least 1 6's' is 100.0%\n",
      "In a game with 6 players, the proability of getting at least 2 1's' is 96.09%\n",
      "In a game with 6 players, the proability of getting at least 2 2's' is 99.98%\n",
      "In a game with 6 players, the proability of getting at least 2 3's' is 100.0%\n",
      "In a game with 6 players, the proability of getting at least 2 4's' is 100.0%\n",
      "In a game with 6 players, the proability of getting at least 2 5's' is 99.99%\n",
      "In a game with 6 players, the proability of getting at least 2 6's' is 99.98%\n",
      "In a game with 6 players, the proability of getting at least 3 1's' is 88.15%\n",
      "In a game with 6 players, the proability of getting at least 3 2's' is 99.91%\n",
      "In a game with 6 players, the proability of getting at least 3 3's' is 99.96%\n",
      "In a game with 6 players, the proability of getting at least 3 4's' is 99.92%\n",
      "In a game with 6 players, the proability of getting at least 3 5's' is 99.92%\n",
      "In a game with 6 players, the proability of getting at least 3 6's' is 99.85%\n",
      "In a game with 6 players, the proability of getting at least 4 1's' is 74.17%\n",
      "In a game with 6 players, the proability of getting at least 4 2's' is 99.42%\n",
      "In a game with 6 players, the proability of getting at least 4 3's' is 99.56%\n",
      "In a game with 6 players, the proability of getting at least 4 4's' is 99.61%\n",
      "In a game with 6 players, the proability of getting at least 4 5's' is 99.61%\n",
      "In a game with 6 players, the proability of getting at least 4 6's' is 99.51%\n",
      "In a game with 6 players, the proability of getting at least 5 1's' is 56.67%\n",
      "In a game with 6 players, the proability of getting at least 5 2's' is 98.25%\n",
      "In a game with 6 players, the proability of getting at least 5 3's' is 98.51%\n",
      "In a game with 6 players, the proability of getting at least 5 4's' is 98.52%\n",
      "In a game with 6 players, the proability of getting at least 5 5's' is 98.52%\n",
      "In a game with 6 players, the proability of getting at least 5 6's' is 98.38%\n",
      "In a game with 6 players, the proability of getting at least 6 1's' is 37.88%\n",
      "In a game with 6 players, the proability of getting at least 6 2's' is 95.53%\n",
      "In a game with 6 players, the proability of getting at least 6 3's' is 95.86%\n",
      "In a game with 6 players, the proability of getting at least 6 4's' is 95.7%\n",
      "In a game with 6 players, the proability of getting at least 6 5's' is 95.93%\n",
      "In a game with 6 players, the proability of getting at least 6 6's' is 95.88%\n",
      "In a game with 6 players, the proability of getting at least 7 1's' is 23.0%\n",
      "In a game with 6 players, the proability of getting at least 7 2's' is 90.3%\n",
      "In a game with 6 players, the proability of getting at least 7 3's' is 90.42%\n",
      "In a game with 6 players, the proability of getting at least 7 4's' is 90.08%\n",
      "In a game with 6 players, the proability of getting at least 7 5's' is 91.03%\n",
      "In a game with 6 players, the proability of getting at least 7 6's' is 90.47%\n",
      "In a game with 6 players, the proability of getting at least 8 1's' is 11.87%\n",
      "In a game with 6 players, the proability of getting at least 8 2's' is 81.89%\n",
      "In a game with 6 players, the proability of getting at least 8 3's' is 82.01%\n",
      "In a game with 6 players, the proability of getting at least 8 4's' is 81.67%\n",
      "In a game with 6 players, the proability of getting at least 8 5's' is 82.45%\n",
      "In a game with 6 players, the proability of getting at least 8 6's' is 82.07%\n",
      "In a game with 6 players, the proability of getting at least 9 1's' is 5.24%\n",
      "In a game with 6 players, the proability of getting at least 9 2's' is 69.86%\n",
      "In a game with 6 players, the proability of getting at least 9 3's' is 69.68%\n",
      "In a game with 6 players, the proability of getting at least 9 4's' is 70.47%\n",
      "In a game with 6 players, the proability of getting at least 9 5's' is 71.18%\n",
      "In a game with 6 players, the proability of getting at least 9 6's' is 70.41%\n",
      "In a game with 6 players, the proability of getting at least 10 1's' is 2.25%\n",
      "In a game with 6 players, the proability of getting at least 10 2's' is 55.18%\n",
      "In a game with 6 players, the proability of getting at least 10 3's' is 55.53%\n",
      "In a game with 6 players, the proability of getting at least 10 4's' is 56.29%\n",
      "In a game with 6 players, the proability of getting at least 10 5's' is 57.07%\n",
      "In a game with 6 players, the proability of getting at least 10 6's' is 56.75%\n",
      "In a game with 6 players, the proability of getting at least 11 1's' is 0.84%\n",
      "In a game with 6 players, the proability of getting at least 11 2's' is 40.35%\n",
      "In a game with 6 players, the proability of getting at least 11 3's' is 40.97%\n",
      "In a game with 6 players, the proability of getting at least 11 4's' is 41.72%\n",
      "In a game with 6 players, the proability of getting at least 11 5's' is 41.95%\n",
      "In a game with 6 players, the proability of getting at least 11 6's' is 41.81%\n",
      "In a game with 6 players, the proability of getting at least 12 1's' is 0.27%\n",
      "In a game with 6 players, the proability of getting at least 12 2's' is 27.55%\n",
      "In a game with 6 players, the proability of getting at least 12 3's' is 28.06%\n",
      "In a game with 6 players, the proability of getting at least 12 4's' is 28.68%\n",
      "In a game with 6 players, the proability of getting at least 12 5's' is 28.67%\n",
      "In a game with 6 players, the proability of getting at least 12 6's' is 28.27%\n",
      "In a game with 6 players, the proability of getting at least 13 1's' is 0.11%\n",
      "In a game with 6 players, the proability of getting at least 13 2's' is 16.85%\n",
      "In a game with 6 players, the proability of getting at least 13 3's' is 17.27%\n",
      "In a game with 6 players, the proability of getting at least 13 4's' is 18.1%\n",
      "In a game with 6 players, the proability of getting at least 13 5's' is 18.01%\n",
      "In a game with 6 players, the proability of getting at least 13 6's' is 17.21%\n",
      "In a game with 6 players, the proability of getting at least 14 1's' is 0.02%\n",
      "In a game with 6 players, the proability of getting at least 14 2's' is 9.52%\n",
      "In a game with 6 players, the proability of getting at least 14 3's' is 10.08%\n",
      "In a game with 6 players, the proability of getting at least 14 4's' is 10.5%\n",
      "In a game with 6 players, the proability of getting at least 14 5's' is 10.32%\n",
      "In a game with 6 players, the proability of getting at least 14 6's' is 10.14%\n",
      "In a game with 6 players, the proability of getting at least 15 1's' is 0.0%\n",
      "In a game with 6 players, the proability of getting at least 15 2's' is 4.82%\n",
      "In a game with 6 players, the proability of getting at least 15 3's' is 5.0%\n",
      "In a game with 6 players, the proability of getting at least 15 4's' is 5.34%\n",
      "In a game with 6 players, the proability of getting at least 15 5's' is 5.41%\n",
      "In a game with 6 players, the proability of getting at least 15 6's' is 5.49%\n",
      "In a game with 6 players, the proability of getting at least 16 1's' is 0.0%\n",
      "In a game with 6 players, the proability of getting at least 16 2's' is 2.25%\n",
      "In a game with 6 players, the proability of getting at least 16 3's' is 2.51%\n",
      "In a game with 6 players, the proability of getting at least 16 4's' is 2.74%\n",
      "In a game with 6 players, the proability of getting at least 16 5's' is 2.5%\n",
      "In a game with 6 players, the proability of getting at least 16 6's' is 2.73%\n",
      "In a game with 6 players, the proability of getting at least 17 1's' is 0.0%\n",
      "In a game with 6 players, the proability of getting at least 17 2's' is 0.94%\n",
      "In a game with 6 players, the proability of getting at least 17 3's' is 1.0%\n",
      "In a game with 6 players, the proability of getting at least 17 4's' is 1.24%\n",
      "In a game with 6 players, the proability of getting at least 17 5's' is 1.13%\n",
      "In a game with 6 players, the proability of getting at least 17 6's' is 1.04%\n",
      "In a game with 6 players, the proability of getting at least 18 1's' is 0.0%\n",
      "In a game with 6 players, the proability of getting at least 18 2's' is 0.37%\n",
      "In a game with 6 players, the proability of getting at least 18 3's' is 0.49%\n",
      "In a game with 6 players, the proability of getting at least 18 4's' is 0.53%\n",
      "In a game with 6 players, the proability of getting at least 18 5's' is 0.44%\n",
      "In a game with 6 players, the proability of getting at least 18 6's' is 0.44%\n",
      "In a game with 6 players, the proability of getting at least 19 1's' is 0.0%\n",
      "In a game with 6 players, the proability of getting at least 19 2's' is 0.14%\n",
      "In a game with 6 players, the proability of getting at least 19 3's' is 0.17%\n",
      "In a game with 6 players, the proability of getting at least 19 4's' is 0.21%\n",
      "In a game with 6 players, the proability of getting at least 19 5's' is 0.15%\n",
      "In a game with 6 players, the proability of getting at least 19 6's' is 0.19%\n",
      "In a game with 6 players, the proability of getting at least 20 1's' is 0.0%\n",
      "In a game with 6 players, the proability of getting at least 20 2's' is 0.05%\n",
      "In a game with 6 players, the proability of getting at least 20 3's' is 0.06%\n",
      "In a game with 6 players, the proability of getting at least 20 4's' is 0.06%\n",
      "In a game with 6 players, the proability of getting at least 20 5's' is 0.02%\n",
      "In a game with 6 players, the proability of getting at least 20 6's' is 0.08%\n",
      "In a game with 6 players, the proability of getting at least 21 1's' is 0.0%\n",
      "In a game with 6 players, the proability of getting at least 21 2's' is 0.02%\n",
      "In a game with 6 players, the proability of getting at least 21 3's' is 0.03%\n",
      "In a game with 6 players, the proability of getting at least 21 4's' is 0.02%\n",
      "In a game with 6 players, the proability of getting at least 21 5's' is 0.0%\n",
      "In a game with 6 players, the proability of getting at least 21 6's' is 0.03%\n",
      "In a game with 6 players, the proability of getting at least 22 1's' is 0.0%\n",
      "In a game with 6 players, the proability of getting at least 22 2's' is 0.01%\n",
      "In a game with 6 players, the proability of getting at least 22 3's' is 0.0%\n",
      "In a game with 6 players, the proability of getting at least 22 4's' is 0.02%\n",
      "In a game with 6 players, the proability of getting at least 22 5's' is 0.0%\n",
      "In a game with 6 players, the proability of getting at least 22 6's' is 0.01%\n",
      "In a game with 6 players, the proability of getting at least 23 1's' is 0.0%\n",
      "In a game with 6 players, the proability of getting at least 23 2's' is 0.0%\n",
      "In a game with 6 players, the proability of getting at least 23 3's' is 0.0%\n",
      "In a game with 6 players, the proability of getting at least 23 4's' is 0.0%\n",
      "In a game with 6 players, the proability of getting at least 23 5's' is 0.0%\n",
      "In a game with 6 players, the proability of getting at least 23 6's' is 0.0%\n",
      "In a game with 6 players, the proability of getting at least 24 1's' is 0.0%\n",
      "In a game with 6 players, the proability of getting at least 24 2's' is 0.0%\n",
      "In a game with 6 players, the proability of getting at least 24 3's' is 0.0%\n",
      "In a game with 6 players, the proability of getting at least 24 4's' is 0.0%\n",
      "In a game with 6 players, the proability of getting at least 24 5's' is 0.0%\n",
      "In a game with 6 players, the proability of getting at least 24 6's' is 0.0%\n",
      "In a game with 6 players, the proability of getting at least 25 1's' is 0.0%\n",
      "In a game with 6 players, the proability of getting at least 25 2's' is 0.0%\n",
      "In a game with 6 players, the proability of getting at least 25 3's' is 0.0%\n",
      "In a game with 6 players, the proability of getting at least 25 4's' is 0.0%\n",
      "In a game with 6 players, the proability of getting at least 25 5's' is 0.0%\n",
      "In a game with 6 players, the proability of getting at least 25 6's' is 0.0%\n",
      "In a game with 6 players, the proability of getting at least 26 1's' is 0.0%\n",
      "In a game with 6 players, the proability of getting at least 26 2's' is 0.0%\n",
      "In a game with 6 players, the proability of getting at least 26 3's' is 0.0%\n",
      "In a game with 6 players, the proability of getting at least 26 4's' is 0.0%\n",
      "In a game with 6 players, the proability of getting at least 26 5's' is 0.0%\n",
      "In a game with 6 players, the proability of getting at least 26 6's' is 0.0%\n",
      "In a game with 6 players, the proability of getting at least 27 1's' is 0.0%\n",
      "In a game with 6 players, the proability of getting at least 27 2's' is 0.0%\n",
      "In a game with 6 players, the proability of getting at least 27 3's' is 0.0%\n",
      "In a game with 6 players, the proability of getting at least 27 4's' is 0.0%\n",
      "In a game with 6 players, the proability of getting at least 27 5's' is 0.0%\n",
      "In a game with 6 players, the proability of getting at least 27 6's' is 0.0%\n",
      "In a game with 6 players, the proability of getting at least 28 1's' is 0.0%\n",
      "In a game with 6 players, the proability of getting at least 28 2's' is 0.0%\n",
      "In a game with 6 players, the proability of getting at least 28 3's' is 0.0%\n",
      "In a game with 6 players, the proability of getting at least 28 4's' is 0.0%\n",
      "In a game with 6 players, the proability of getting at least 28 5's' is 0.0%\n",
      "In a game with 6 players, the proability of getting at least 28 6's' is 0.0%\n",
      "In a game with 6 players, the proability of getting at least 29 1's' is 0.0%\n",
      "In a game with 6 players, the proability of getting at least 29 2's' is 0.0%\n",
      "In a game with 6 players, the proability of getting at least 29 3's' is 0.0%\n",
      "In a game with 6 players, the proability of getting at least 29 4's' is 0.0%\n",
      "In a game with 6 players, the proability of getting at least 29 5's' is 0.0%\n",
      "In a game with 6 players, the proability of getting at least 29 6's' is 0.0%\n",
      "In a game with 6 players, the proability of getting at least 30 1's' is 0.0%\n",
      "In a game with 6 players, the proability of getting at least 30 2's' is 0.0%\n",
      "In a game with 6 players, the proability of getting at least 30 3's' is 0.0%\n",
      "In a game with 6 players, the proability of getting at least 30 4's' is 0.0%\n",
      "In a game with 6 players, the proability of getting at least 30 5's' is 0.0%\n",
      "In a game with 6 players, the proability of getting at least 30 6's' is 0.0%\n",
      "In a game with 6 players, the proability of getting at least 31 1's' is 0.0%\n",
      "In a game with 6 players, the proability of getting at least 31 2's' is 0.0%\n",
      "In a game with 6 players, the proability of getting at least 31 3's' is 0.0%\n",
      "In a game with 6 players, the proability of getting at least 31 4's' is 0.0%\n",
      "In a game with 6 players, the proability of getting at least 31 5's' is 0.0%\n",
      "In a game with 6 players, the proability of getting at least 31 6's' is 0.0%\n",
      "In a game with 6 players, the proability of getting at least 32 1's' is 0.0%\n",
      "In a game with 6 players, the proability of getting at least 32 2's' is 0.0%\n",
      "In a game with 6 players, the proability of getting at least 32 3's' is 0.0%\n",
      "In a game with 6 players, the proability of getting at least 32 4's' is 0.0%\n",
      "In a game with 6 players, the proability of getting at least 32 5's' is 0.0%\n",
      "In a game with 6 players, the proability of getting at least 32 6's' is 0.0%\n",
      "In a game with 6 players, the proability of getting at least 33 1's' is 0.0%\n",
      "In a game with 6 players, the proability of getting at least 33 2's' is 0.0%\n",
      "In a game with 6 players, the proability of getting at least 33 3's' is 0.0%\n",
      "In a game with 6 players, the proability of getting at least 33 4's' is 0.0%\n",
      "In a game with 6 players, the proability of getting at least 33 5's' is 0.0%\n",
      "In a game with 6 players, the proability of getting at least 33 6's' is 0.0%\n",
      "In a game with 6 players, the proability of getting at least 34 1's' is 0.0%\n",
      "In a game with 6 players, the proability of getting at least 34 2's' is 0.0%\n",
      "In a game with 6 players, the proability of getting at least 34 3's' is 0.0%\n",
      "In a game with 6 players, the proability of getting at least 34 4's' is 0.0%\n",
      "In a game with 6 players, the proability of getting at least 34 5's' is 0.0%\n",
      "In a game with 6 players, the proability of getting at least 34 6's' is 0.0%\n",
      "In a game with 6 players, the proability of getting at least 35 1's' is 0.0%\n",
      "In a game with 6 players, the proability of getting at least 35 2's' is 0.0%\n",
      "In a game with 6 players, the proability of getting at least 35 3's' is 0.0%\n",
      "In a game with 6 players, the proability of getting at least 35 4's' is 0.0%\n",
      "In a game with 6 players, the proability of getting at least 35 5's' is 0.0%\n",
      "In a game with 6 players, the proability of getting at least 35 6's' is 0.0%\n",
      "In a game with 6 players, the proability of getting at least 36 1's' is 0.0%\n",
      "In a game with 6 players, the proability of getting at least 36 2's' is 0.0%\n",
      "In a game with 6 players, the proability of getting at least 36 3's' is 0.0%\n",
      "In a game with 6 players, the proability of getting at least 36 4's' is 0.0%\n",
      "In a game with 6 players, the proability of getting at least 36 5's' is 0.0%\n",
      "In a game with 6 players, the proability of getting at least 36 6's' is 0.0%\n"
     ]
    }
   ],
   "source": [
    "aggDiceCount = np.zeros((numMC,6))\n",
    "for playernum in range(numPlayers):\n",
    "    aggDiceCount+=player(numMC,playernum).dice_count(countOnes)\n",
    "for numOutcomes in range(1,6*numPlayers+1):\n",
    "    for faceValue in range(1,7):\n",
    "        print(\"In a game with {} players, the proability of getting at least {} {}'s' is {}%\"\\\n",
    "              .format(numPlayers, numOutcomes, faceValue,\\\n",
    "                      np.round((aggDiceCount>=numOutcomes).sum(axis = 0)[faceValue-1]/numMC*100,2)))"
   ]
  },
  {
   "cell_type": "markdown",
   "metadata": {},
   "source": [
    "## Counting Ones"
   ]
  },
  {
   "cell_type": "code",
   "execution_count": 75,
   "metadata": {},
   "outputs": [
    {
     "data": {
      "image/png": "[encoded data removed]",
      "text/plain": [
       "<Figure size 432x288 with 1 Axes>"
      ]
     },
     "metadata": {
      "needs_background": "light"
     },
     "output_type": "display_data"
    }
   ],
   "source": [
    "onesProb = np.zeros((6*numPlayers))\n",
    "for numOutcomes in range(6*numPlayers):\n",
    "    onesProb[numOutcomes] = np.round((aggDiceCount>=numOutcomes).sum(axis = 0)[0]/numMC*100,2)\n",
    "plotDiceGraph(range(1,6*numPlayers+1),'Outcome',onesProb,'Probability (%)',\"Probability of Getting 1's\")"
   ]
  },
  {
   "cell_type": "markdown",
   "metadata": {},
   "source": [
    "## Counting None One (Using 2 as a Proxy)"
   ]
  },
  {
   "cell_type": "code",
   "execution_count": 76,
   "metadata": {
    "scrolled": true
   },
   "outputs": [
    {
     "data": {
      "image/png": "[encoded data removed]",
      "text/plain": [
       "<Figure size 432x288 with 1 Axes>"
      ]
     },
     "metadata": {
      "needs_background": "light"
     },
     "output_type": "display_data"
    }
   ],
   "source": [
    "twosProb = np.zeros((6*numPlayers))\n",
    "for numOutcomes in range(6*numPlayers):\n",
    "    twosProb[numOutcomes] = np.round((aggDiceCount>=numOutcomes).sum(axis = 0)[1]/numMC*100,2)\n",
    "plotDiceGraph(range(1,6*numPlayers+1),'Outcome',twosProb,'Probability (%)',\"Probability of Getting Not 1's While Counting 1's\")"
   ]
  }
 ],
 "metadata": {
  "kernelspec": {
   "display_name": "Python 3",
   "language": "python",
   "name": "python3"
  },
  "language_info": {
   "codemirror_mode": {
    "name": "ipython",
    "version": 3
   },
   "file_extension": ".py",
   "mimetype": "text/x-python",
   "name": "python",
   "nbconvert_exporter": "python",
   "pygments_lexer": "ipython3",
   "version": "3.7.1"
  }
 },
 "nbformat": 4,
 "nbformat_minor": 2
}
